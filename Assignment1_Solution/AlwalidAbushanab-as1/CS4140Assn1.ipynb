{
  "nbformat": 4,
  "nbformat_minor": 0,
  "metadata": {
    "colab": {
      "provenance": []
    },
    "kernelspec": {
      "name": "python3",
      "display_name": "Python 3"
    },
    "language_info": {
      "name": "python"
    }
  },
  "cells": [
    {
      "cell_type": "markdown",
      "source": [
        "**Motivation:** I have selected this dataset because i want to learn more about the hotel industry, and devolep a model that can accuretly predict whether a customer will cancel their reservation or not. bt predicting which customers will cancel, hotels will be able to save money. "
      ],
      "metadata": {
        "id": "sQudv2zt7Eg_"
      }
    },
    {
      "cell_type": "markdown",
      "source": [
        "**Objective:** to Build a model that can accuretly predicte (classify) if a costumer will cancel their hotel reservation or not."
      ],
      "metadata": {
        "id": "Jas7cgsl8Ma3"
      }
    },
    {
      "cell_type": "markdown",
      "source": [
        "**Abbroach:** use machine learning algorithems to train a model on a decently sized Dataset, then test the model's preformance using a testing data set to calculate the model's accurecy"
      ],
      "metadata": {
        "id": "frtGJ73L8ehy"
      }
    },
    {
      "cell_type": "markdown",
      "source": [
        "**Description:** The data set contains 36275 bookings, with 18 features."
      ],
      "metadata": {
        "id": "jQyNZ8um844c"
      }
    },
    {
      "cell_type": "markdown",
      "source": [
        "**Visualization and analysis:**"
      ],
      "metadata": {
        "id": "tlPHLgGS9qko"
      }
    },
    {
      "cell_type": "code",
      "source": [
        "import os\n",
        "import cv2\n",
        "import random\n",
        "import numpy as np\n",
        "import seaborn as sns\n",
        "import pandas as pd\n",
        "import matplotlib.pyplot as plt\n",
        "from sklearn.preprocessing import LabelEncoder\n",
        "from sklearn.neighbors import KNeighborsClassifier\n",
        "from sklearn.model_selection import train_test_split\n",
        "from sklearn import metrics\n",
        "from imblearn.over_sampling import RandomOverSampler\n",
        "from sklearn.model_selection import cross_val_score\n",
        "from sklearn.preprocessing import StandardScaler\n",
        "from sklearn.feature_selection import SelectFromModel\n",
        "from sklearn.tree import DecisionTreeClassifier\n",
        "from sklearn.decomposition import PCA\n",
        "from sklearn.preprocessing import StandardScaler\n",
        "from sklearn.model_selection import learning_curve\n",
        "from sklearn.metrics import confusion_matrix\n",
        "from sklearn.linear_model import LogisticRegression\n",
        "from sklearn.tree import DecisionTreeClassifier\n",
        "from sklearn.naive_bayes import GaussianNB\n",
        "%matplotlib inline\n",
        "\n",
        "data = pd.read_csv(\"/content/Hotel Reservations.csv\")\n",
        "\n",
        "print(\"data Type: \" + str(type(data)))\n",
        "print(\"data shape Type: \" + str(type(data.shape)))\n",
        "print(\"data shape: \" + str(data.shape))"
      ],
      "metadata": {
        "id": "kQEyqbNRxL0c",
        "colab": {
          "base_uri": "https://localhost:8080/"
        },
        "outputId": "1fa2e19b-f0d9-4e36-9ad6-58f496520b9a"
      },
      "execution_count": 180,
      "outputs": [
        {
          "output_type": "stream",
          "name": "stdout",
          "text": [
            "data Type: <class 'pandas.core.frame.DataFrame'>\n",
            "data shape Type: <class 'tuple'>\n",
            "data shape: (36275, 19)\n"
          ]
        }
      ]
    },
    {
      "cell_type": "code",
      "source": [
        "data.describe()"
      ],
      "metadata": {
        "colab": {
          "base_uri": "https://localhost:8080/",
          "height": 364
        },
        "id": "_aoZkGEmAWeg",
        "outputId": "91f1297a-2b38-4bbb-e643-042cd3109ecf"
      },
      "execution_count": 181,
      "outputs": [
        {
          "output_type": "execute_result",
          "data": {
            "text/plain": [
              "       no_of_adults  no_of_children  no_of_weekend_nights  no_of_week_nights  \\\n",
              "count  36275.000000    36275.000000          36275.000000       36275.000000   \n",
              "mean       1.844962        0.105279              0.810724           2.204300   \n",
              "std        0.518715        0.402648              0.870644           1.410905   \n",
              "min        0.000000        0.000000              0.000000           0.000000   \n",
              "25%        2.000000        0.000000              0.000000           1.000000   \n",
              "50%        2.000000        0.000000              1.000000           2.000000   \n",
              "75%        2.000000        0.000000              2.000000           3.000000   \n",
              "max        4.000000       10.000000              7.000000          17.000000   \n",
              "\n",
              "       required_car_parking_space     lead_time  arrival_year  arrival_month  \\\n",
              "count                36275.000000  36275.000000  36275.000000   36275.000000   \n",
              "mean                     0.030986     85.232557   2017.820427       7.423653   \n",
              "std                      0.173281     85.930817      0.383836       3.069894   \n",
              "min                      0.000000      0.000000   2017.000000       1.000000   \n",
              "25%                      0.000000     17.000000   2018.000000       5.000000   \n",
              "50%                      0.000000     57.000000   2018.000000       8.000000   \n",
              "75%                      0.000000    126.000000   2018.000000      10.000000   \n",
              "max                      1.000000    443.000000   2018.000000      12.000000   \n",
              "\n",
              "       arrival_date  repeated_guest  no_of_previous_cancellations  \\\n",
              "count  36275.000000    36275.000000                  36275.000000   \n",
              "mean      15.596995        0.025637                      0.023349   \n",
              "std        8.740447        0.158053                      0.368331   \n",
              "min        1.000000        0.000000                      0.000000   \n",
              "25%        8.000000        0.000000                      0.000000   \n",
              "50%       16.000000        0.000000                      0.000000   \n",
              "75%       23.000000        0.000000                      0.000000   \n",
              "max       31.000000        1.000000                     13.000000   \n",
              "\n",
              "       no_of_previous_bookings_not_canceled  avg_price_per_room  \\\n",
              "count                          36275.000000        36275.000000   \n",
              "mean                               0.153411          103.423539   \n",
              "std                                1.754171           35.089424   \n",
              "min                                0.000000            0.000000   \n",
              "25%                                0.000000           80.300000   \n",
              "50%                                0.000000           99.450000   \n",
              "75%                                0.000000          120.000000   \n",
              "max                               58.000000          540.000000   \n",
              "\n",
              "       no_of_special_requests  \n",
              "count            36275.000000  \n",
              "mean                 0.619655  \n",
              "std                  0.786236  \n",
              "min                  0.000000  \n",
              "25%                  0.000000  \n",
              "50%                  0.000000  \n",
              "75%                  1.000000  \n",
              "max                  5.000000  "
            ],
            "text/html": [
              "\n",
              "  <div id=\"df-341a48ad-2bb2-4569-939a-569dbeb7db49\">\n",
              "    <div class=\"colab-df-container\">\n",
              "      <div>\n",
              "<style scoped>\n",
              "    .dataframe tbody tr th:only-of-type {\n",
              "        vertical-align: middle;\n",
              "    }\n",
              "\n",
              "    .dataframe tbody tr th {\n",
              "        vertical-align: top;\n",
              "    }\n",
              "\n",
              "    .dataframe thead th {\n",
              "        text-align: right;\n",
              "    }\n",
              "</style>\n",
              "<table border=\"1\" class=\"dataframe\">\n",
              "  <thead>\n",
              "    <tr style=\"text-align: right;\">\n",
              "      <th></th>\n",
              "      <th>no_of_adults</th>\n",
              "      <th>no_of_children</th>\n",
              "      <th>no_of_weekend_nights</th>\n",
              "      <th>no_of_week_nights</th>\n",
              "      <th>required_car_parking_space</th>\n",
              "      <th>lead_time</th>\n",
              "      <th>arrival_year</th>\n",
              "      <th>arrival_month</th>\n",
              "      <th>arrival_date</th>\n",
              "      <th>repeated_guest</th>\n",
              "      <th>no_of_previous_cancellations</th>\n",
              "      <th>no_of_previous_bookings_not_canceled</th>\n",
              "      <th>avg_price_per_room</th>\n",
              "      <th>no_of_special_requests</th>\n",
              "    </tr>\n",
              "  </thead>\n",
              "  <tbody>\n",
              "    <tr>\n",
              "      <th>count</th>\n",
              "      <td>36275.000000</td>\n",
              "      <td>36275.000000</td>\n",
              "      <td>36275.000000</td>\n",
              "      <td>36275.000000</td>\n",
              "      <td>36275.000000</td>\n",
              "      <td>36275.000000</td>\n",
              "      <td>36275.000000</td>\n",
              "      <td>36275.000000</td>\n",
              "      <td>36275.000000</td>\n",
              "      <td>36275.000000</td>\n",
              "      <td>36275.000000</td>\n",
              "      <td>36275.000000</td>\n",
              "      <td>36275.000000</td>\n",
              "      <td>36275.000000</td>\n",
              "    </tr>\n",
              "    <tr>\n",
              "      <th>mean</th>\n",
              "      <td>1.844962</td>\n",
              "      <td>0.105279</td>\n",
              "      <td>0.810724</td>\n",
              "      <td>2.204300</td>\n",
              "      <td>0.030986</td>\n",
              "      <td>85.232557</td>\n",
              "      <td>2017.820427</td>\n",
              "      <td>7.423653</td>\n",
              "      <td>15.596995</td>\n",
              "      <td>0.025637</td>\n",
              "      <td>0.023349</td>\n",
              "      <td>0.153411</td>\n",
              "      <td>103.423539</td>\n",
              "      <td>0.619655</td>\n",
              "    </tr>\n",
              "    <tr>\n",
              "      <th>std</th>\n",
              "      <td>0.518715</td>\n",
              "      <td>0.402648</td>\n",
              "      <td>0.870644</td>\n",
              "      <td>1.410905</td>\n",
              "      <td>0.173281</td>\n",
              "      <td>85.930817</td>\n",
              "      <td>0.383836</td>\n",
              "      <td>3.069894</td>\n",
              "      <td>8.740447</td>\n",
              "      <td>0.158053</td>\n",
              "      <td>0.368331</td>\n",
              "      <td>1.754171</td>\n",
              "      <td>35.089424</td>\n",
              "      <td>0.786236</td>\n",
              "    </tr>\n",
              "    <tr>\n",
              "      <th>min</th>\n",
              "      <td>0.000000</td>\n",
              "      <td>0.000000</td>\n",
              "      <td>0.000000</td>\n",
              "      <td>0.000000</td>\n",
              "      <td>0.000000</td>\n",
              "      <td>0.000000</td>\n",
              "      <td>2017.000000</td>\n",
              "      <td>1.000000</td>\n",
              "      <td>1.000000</td>\n",
              "      <td>0.000000</td>\n",
              "      <td>0.000000</td>\n",
              "      <td>0.000000</td>\n",
              "      <td>0.000000</td>\n",
              "      <td>0.000000</td>\n",
              "    </tr>\n",
              "    <tr>\n",
              "      <th>25%</th>\n",
              "      <td>2.000000</td>\n",
              "      <td>0.000000</td>\n",
              "      <td>0.000000</td>\n",
              "      <td>1.000000</td>\n",
              "      <td>0.000000</td>\n",
              "      <td>17.000000</td>\n",
              "      <td>2018.000000</td>\n",
              "      <td>5.000000</td>\n",
              "      <td>8.000000</td>\n",
              "      <td>0.000000</td>\n",
              "      <td>0.000000</td>\n",
              "      <td>0.000000</td>\n",
              "      <td>80.300000</td>\n",
              "      <td>0.000000</td>\n",
              "    </tr>\n",
              "    <tr>\n",
              "      <th>50%</th>\n",
              "      <td>2.000000</td>\n",
              "      <td>0.000000</td>\n",
              "      <td>1.000000</td>\n",
              "      <td>2.000000</td>\n",
              "      <td>0.000000</td>\n",
              "      <td>57.000000</td>\n",
              "      <td>2018.000000</td>\n",
              "      <td>8.000000</td>\n",
              "      <td>16.000000</td>\n",
              "      <td>0.000000</td>\n",
              "      <td>0.000000</td>\n",
              "      <td>0.000000</td>\n",
              "      <td>99.450000</td>\n",
              "      <td>0.000000</td>\n",
              "    </tr>\n",
              "    <tr>\n",
              "      <th>75%</th>\n",
              "      <td>2.000000</td>\n",
              "      <td>0.000000</td>\n",
              "      <td>2.000000</td>\n",
              "      <td>3.000000</td>\n",
              "      <td>0.000000</td>\n",
              "      <td>126.000000</td>\n",
              "      <td>2018.000000</td>\n",
              "      <td>10.000000</td>\n",
              "      <td>23.000000</td>\n",
              "      <td>0.000000</td>\n",
              "      <td>0.000000</td>\n",
              "      <td>0.000000</td>\n",
              "      <td>120.000000</td>\n",
              "      <td>1.000000</td>\n",
              "    </tr>\n",
              "    <tr>\n",
              "      <th>max</th>\n",
              "      <td>4.000000</td>\n",
              "      <td>10.000000</td>\n",
              "      <td>7.000000</td>\n",
              "      <td>17.000000</td>\n",
              "      <td>1.000000</td>\n",
              "      <td>443.000000</td>\n",
              "      <td>2018.000000</td>\n",
              "      <td>12.000000</td>\n",
              "      <td>31.000000</td>\n",
              "      <td>1.000000</td>\n",
              "      <td>13.000000</td>\n",
              "      <td>58.000000</td>\n",
              "      <td>540.000000</td>\n",
              "      <td>5.000000</td>\n",
              "    </tr>\n",
              "  </tbody>\n",
              "</table>\n",
              "</div>\n",
              "      <button class=\"colab-df-convert\" onclick=\"convertToInteractive('df-341a48ad-2bb2-4569-939a-569dbeb7db49')\"\n",
              "              title=\"Convert this dataframe to an interactive table.\"\n",
              "              style=\"display:none;\">\n",
              "        \n",
              "  <svg xmlns=\"http://www.w3.org/2000/svg\" height=\"24px\"viewBox=\"0 0 24 24\"\n",
              "       width=\"24px\">\n",
              "    <path d=\"M0 0h24v24H0V0z\" fill=\"none\"/>\n",
              "    <path d=\"M18.56 5.44l.94 2.06.94-2.06 2.06-.94-2.06-.94-.94-2.06-.94 2.06-2.06.94zm-11 1L8.5 8.5l.94-2.06 2.06-.94-2.06-.94L8.5 2.5l-.94 2.06-2.06.94zm10 10l.94 2.06.94-2.06 2.06-.94-2.06-.94-.94-2.06-.94 2.06-2.06.94z\"/><path d=\"M17.41 7.96l-1.37-1.37c-.4-.4-.92-.59-1.43-.59-.52 0-1.04.2-1.43.59L10.3 9.45l-7.72 7.72c-.78.78-.78 2.05 0 2.83L4 21.41c.39.39.9.59 1.41.59.51 0 1.02-.2 1.41-.59l7.78-7.78 2.81-2.81c.8-.78.8-2.07 0-2.86zM5.41 20L4 18.59l7.72-7.72 1.47 1.35L5.41 20z\"/>\n",
              "  </svg>\n",
              "      </button>\n",
              "      \n",
              "  <style>\n",
              "    .colab-df-container {\n",
              "      display:flex;\n",
              "      flex-wrap:wrap;\n",
              "      gap: 12px;\n",
              "    }\n",
              "\n",
              "    .colab-df-convert {\n",
              "      background-color: #E8F0FE;\n",
              "      border: none;\n",
              "      border-radius: 50%;\n",
              "      cursor: pointer;\n",
              "      display: none;\n",
              "      fill: #1967D2;\n",
              "      height: 32px;\n",
              "      padding: 0 0 0 0;\n",
              "      width: 32px;\n",
              "    }\n",
              "\n",
              "    .colab-df-convert:hover {\n",
              "      background-color: #E2EBFA;\n",
              "      box-shadow: 0px 1px 2px rgba(60, 64, 67, 0.3), 0px 1px 3px 1px rgba(60, 64, 67, 0.15);\n",
              "      fill: #174EA6;\n",
              "    }\n",
              "\n",
              "    [theme=dark] .colab-df-convert {\n",
              "      background-color: #3B4455;\n",
              "      fill: #D2E3FC;\n",
              "    }\n",
              "\n",
              "    [theme=dark] .colab-df-convert:hover {\n",
              "      background-color: #434B5C;\n",
              "      box-shadow: 0px 1px 3px 1px rgba(0, 0, 0, 0.15);\n",
              "      filter: drop-shadow(0px 1px 2px rgba(0, 0, 0, 0.3));\n",
              "      fill: #FFFFFF;\n",
              "    }\n",
              "  </style>\n",
              "\n",
              "      <script>\n",
              "        const buttonEl =\n",
              "          document.querySelector('#df-341a48ad-2bb2-4569-939a-569dbeb7db49 button.colab-df-convert');\n",
              "        buttonEl.style.display =\n",
              "          google.colab.kernel.accessAllowed ? 'block' : 'none';\n",
              "\n",
              "        async function convertToInteractive(key) {\n",
              "          const element = document.querySelector('#df-341a48ad-2bb2-4569-939a-569dbeb7db49');\n",
              "          const dataTable =\n",
              "            await google.colab.kernel.invokeFunction('convertToInteractive',\n",
              "                                                     [key], {});\n",
              "          if (!dataTable) return;\n",
              "\n",
              "          const docLinkHtml = 'Like what you see? Visit the ' +\n",
              "            '<a target=\"_blank\" href=https://colab.research.google.com/notebooks/data_table.ipynb>data table notebook</a>'\n",
              "            + ' to learn more about interactive tables.';\n",
              "          element.innerHTML = '';\n",
              "          dataTable['output_type'] = 'display_data';\n",
              "          await google.colab.output.renderOutput(dataTable, element);\n",
              "          const docLink = document.createElement('div');\n",
              "          docLink.innerHTML = docLinkHtml;\n",
              "          element.appendChild(docLink);\n",
              "        }\n",
              "      </script>\n",
              "    </div>\n",
              "  </div>\n",
              "  "
            ]
          },
          "metadata": {},
          "execution_count": 181
        }
      ]
    },
    {
      "cell_type": "code",
      "source": [
        "data.head(5)"
      ],
      "metadata": {
        "colab": {
          "base_uri": "https://localhost:8080/",
          "height": 270
        },
        "id": "lCfaXCo6-5ZM",
        "outputId": "092eb0cd-55ea-41fa-a91a-76f56623ae2d"
      },
      "execution_count": 182,
      "outputs": [
        {
          "output_type": "execute_result",
          "data": {
            "text/plain": [
              "  Booking_ID  no_of_adults  no_of_children  no_of_weekend_nights  \\\n",
              "0   INN00001             2               0                     1   \n",
              "1   INN00002             2               0                     2   \n",
              "2   INN00003             1               0                     2   \n",
              "3   INN00004             2               0                     0   \n",
              "4   INN00005             2               0                     1   \n",
              "\n",
              "   no_of_week_nights type_of_meal_plan  required_car_parking_space  \\\n",
              "0                  2       Meal Plan 1                           0   \n",
              "1                  3      Not Selected                           0   \n",
              "2                  1       Meal Plan 1                           0   \n",
              "3                  2       Meal Plan 1                           0   \n",
              "4                  1      Not Selected                           0   \n",
              "\n",
              "  room_type_reserved  lead_time  arrival_year  arrival_month  arrival_date  \\\n",
              "0        Room_Type 1        224          2017             10             2   \n",
              "1        Room_Type 1          5          2018             11             6   \n",
              "2        Room_Type 1          1          2018              2            28   \n",
              "3        Room_Type 1        211          2018              5            20   \n",
              "4        Room_Type 1         48          2018              4            11   \n",
              "\n",
              "  market_segment_type  repeated_guest  no_of_previous_cancellations  \\\n",
              "0             Offline               0                             0   \n",
              "1              Online               0                             0   \n",
              "2              Online               0                             0   \n",
              "3              Online               0                             0   \n",
              "4              Online               0                             0   \n",
              "\n",
              "   no_of_previous_bookings_not_canceled  avg_price_per_room  \\\n",
              "0                                     0               65.00   \n",
              "1                                     0              106.68   \n",
              "2                                     0               60.00   \n",
              "3                                     0              100.00   \n",
              "4                                     0               94.50   \n",
              "\n",
              "   no_of_special_requests booking_status  \n",
              "0                       0   Not_Canceled  \n",
              "1                       1   Not_Canceled  \n",
              "2                       0       Canceled  \n",
              "3                       0       Canceled  \n",
              "4                       0       Canceled  "
            ],
            "text/html": [
              "\n",
              "  <div id=\"df-3df498e8-6e2b-4af7-8c14-8b4250eb3abd\">\n",
              "    <div class=\"colab-df-container\">\n",
              "      <div>\n",
              "<style scoped>\n",
              "    .dataframe tbody tr th:only-of-type {\n",
              "        vertical-align: middle;\n",
              "    }\n",
              "\n",
              "    .dataframe tbody tr th {\n",
              "        vertical-align: top;\n",
              "    }\n",
              "\n",
              "    .dataframe thead th {\n",
              "        text-align: right;\n",
              "    }\n",
              "</style>\n",
              "<table border=\"1\" class=\"dataframe\">\n",
              "  <thead>\n",
              "    <tr style=\"text-align: right;\">\n",
              "      <th></th>\n",
              "      <th>Booking_ID</th>\n",
              "      <th>no_of_adults</th>\n",
              "      <th>no_of_children</th>\n",
              "      <th>no_of_weekend_nights</th>\n",
              "      <th>no_of_week_nights</th>\n",
              "      <th>type_of_meal_plan</th>\n",
              "      <th>required_car_parking_space</th>\n",
              "      <th>room_type_reserved</th>\n",
              "      <th>lead_time</th>\n",
              "      <th>arrival_year</th>\n",
              "      <th>arrival_month</th>\n",
              "      <th>arrival_date</th>\n",
              "      <th>market_segment_type</th>\n",
              "      <th>repeated_guest</th>\n",
              "      <th>no_of_previous_cancellations</th>\n",
              "      <th>no_of_previous_bookings_not_canceled</th>\n",
              "      <th>avg_price_per_room</th>\n",
              "      <th>no_of_special_requests</th>\n",
              "      <th>booking_status</th>\n",
              "    </tr>\n",
              "  </thead>\n",
              "  <tbody>\n",
              "    <tr>\n",
              "      <th>0</th>\n",
              "      <td>INN00001</td>\n",
              "      <td>2</td>\n",
              "      <td>0</td>\n",
              "      <td>1</td>\n",
              "      <td>2</td>\n",
              "      <td>Meal Plan 1</td>\n",
              "      <td>0</td>\n",
              "      <td>Room_Type 1</td>\n",
              "      <td>224</td>\n",
              "      <td>2017</td>\n",
              "      <td>10</td>\n",
              "      <td>2</td>\n",
              "      <td>Offline</td>\n",
              "      <td>0</td>\n",
              "      <td>0</td>\n",
              "      <td>0</td>\n",
              "      <td>65.00</td>\n",
              "      <td>0</td>\n",
              "      <td>Not_Canceled</td>\n",
              "    </tr>\n",
              "    <tr>\n",
              "      <th>1</th>\n",
              "      <td>INN00002</td>\n",
              "      <td>2</td>\n",
              "      <td>0</td>\n",
              "      <td>2</td>\n",
              "      <td>3</td>\n",
              "      <td>Not Selected</td>\n",
              "      <td>0</td>\n",
              "      <td>Room_Type 1</td>\n",
              "      <td>5</td>\n",
              "      <td>2018</td>\n",
              "      <td>11</td>\n",
              "      <td>6</td>\n",
              "      <td>Online</td>\n",
              "      <td>0</td>\n",
              "      <td>0</td>\n",
              "      <td>0</td>\n",
              "      <td>106.68</td>\n",
              "      <td>1</td>\n",
              "      <td>Not_Canceled</td>\n",
              "    </tr>\n",
              "    <tr>\n",
              "      <th>2</th>\n",
              "      <td>INN00003</td>\n",
              "      <td>1</td>\n",
              "      <td>0</td>\n",
              "      <td>2</td>\n",
              "      <td>1</td>\n",
              "      <td>Meal Plan 1</td>\n",
              "      <td>0</td>\n",
              "      <td>Room_Type 1</td>\n",
              "      <td>1</td>\n",
              "      <td>2018</td>\n",
              "      <td>2</td>\n",
              "      <td>28</td>\n",
              "      <td>Online</td>\n",
              "      <td>0</td>\n",
              "      <td>0</td>\n",
              "      <td>0</td>\n",
              "      <td>60.00</td>\n",
              "      <td>0</td>\n",
              "      <td>Canceled</td>\n",
              "    </tr>\n",
              "    <tr>\n",
              "      <th>3</th>\n",
              "      <td>INN00004</td>\n",
              "      <td>2</td>\n",
              "      <td>0</td>\n",
              "      <td>0</td>\n",
              "      <td>2</td>\n",
              "      <td>Meal Plan 1</td>\n",
              "      <td>0</td>\n",
              "      <td>Room_Type 1</td>\n",
              "      <td>211</td>\n",
              "      <td>2018</td>\n",
              "      <td>5</td>\n",
              "      <td>20</td>\n",
              "      <td>Online</td>\n",
              "      <td>0</td>\n",
              "      <td>0</td>\n",
              "      <td>0</td>\n",
              "      <td>100.00</td>\n",
              "      <td>0</td>\n",
              "      <td>Canceled</td>\n",
              "    </tr>\n",
              "    <tr>\n",
              "      <th>4</th>\n",
              "      <td>INN00005</td>\n",
              "      <td>2</td>\n",
              "      <td>0</td>\n",
              "      <td>1</td>\n",
              "      <td>1</td>\n",
              "      <td>Not Selected</td>\n",
              "      <td>0</td>\n",
              "      <td>Room_Type 1</td>\n",
              "      <td>48</td>\n",
              "      <td>2018</td>\n",
              "      <td>4</td>\n",
              "      <td>11</td>\n",
              "      <td>Online</td>\n",
              "      <td>0</td>\n",
              "      <td>0</td>\n",
              "      <td>0</td>\n",
              "      <td>94.50</td>\n",
              "      <td>0</td>\n",
              "      <td>Canceled</td>\n",
              "    </tr>\n",
              "  </tbody>\n",
              "</table>\n",
              "</div>\n",
              "      <button class=\"colab-df-convert\" onclick=\"convertToInteractive('df-3df498e8-6e2b-4af7-8c14-8b4250eb3abd')\"\n",
              "              title=\"Convert this dataframe to an interactive table.\"\n",
              "              style=\"display:none;\">\n",
              "        \n",
              "  <svg xmlns=\"http://www.w3.org/2000/svg\" height=\"24px\"viewBox=\"0 0 24 24\"\n",
              "       width=\"24px\">\n",
              "    <path d=\"M0 0h24v24H0V0z\" fill=\"none\"/>\n",
              "    <path d=\"M18.56 5.44l.94 2.06.94-2.06 2.06-.94-2.06-.94-.94-2.06-.94 2.06-2.06.94zm-11 1L8.5 8.5l.94-2.06 2.06-.94-2.06-.94L8.5 2.5l-.94 2.06-2.06.94zm10 10l.94 2.06.94-2.06 2.06-.94-2.06-.94-.94-2.06-.94 2.06-2.06.94z\"/><path d=\"M17.41 7.96l-1.37-1.37c-.4-.4-.92-.59-1.43-.59-.52 0-1.04.2-1.43.59L10.3 9.45l-7.72 7.72c-.78.78-.78 2.05 0 2.83L4 21.41c.39.39.9.59 1.41.59.51 0 1.02-.2 1.41-.59l7.78-7.78 2.81-2.81c.8-.78.8-2.07 0-2.86zM5.41 20L4 18.59l7.72-7.72 1.47 1.35L5.41 20z\"/>\n",
              "  </svg>\n",
              "      </button>\n",
              "      \n",
              "  <style>\n",
              "    .colab-df-container {\n",
              "      display:flex;\n",
              "      flex-wrap:wrap;\n",
              "      gap: 12px;\n",
              "    }\n",
              "\n",
              "    .colab-df-convert {\n",
              "      background-color: #E8F0FE;\n",
              "      border: none;\n",
              "      border-radius: 50%;\n",
              "      cursor: pointer;\n",
              "      display: none;\n",
              "      fill: #1967D2;\n",
              "      height: 32px;\n",
              "      padding: 0 0 0 0;\n",
              "      width: 32px;\n",
              "    }\n",
              "\n",
              "    .colab-df-convert:hover {\n",
              "      background-color: #E2EBFA;\n",
              "      box-shadow: 0px 1px 2px rgba(60, 64, 67, 0.3), 0px 1px 3px 1px rgba(60, 64, 67, 0.15);\n",
              "      fill: #174EA6;\n",
              "    }\n",
              "\n",
              "    [theme=dark] .colab-df-convert {\n",
              "      background-color: #3B4455;\n",
              "      fill: #D2E3FC;\n",
              "    }\n",
              "\n",
              "    [theme=dark] .colab-df-convert:hover {\n",
              "      background-color: #434B5C;\n",
              "      box-shadow: 0px 1px 3px 1px rgba(0, 0, 0, 0.15);\n",
              "      filter: drop-shadow(0px 1px 2px rgba(0, 0, 0, 0.3));\n",
              "      fill: #FFFFFF;\n",
              "    }\n",
              "  </style>\n",
              "\n",
              "      <script>\n",
              "        const buttonEl =\n",
              "          document.querySelector('#df-3df498e8-6e2b-4af7-8c14-8b4250eb3abd button.colab-df-convert');\n",
              "        buttonEl.style.display =\n",
              "          google.colab.kernel.accessAllowed ? 'block' : 'none';\n",
              "\n",
              "        async function convertToInteractive(key) {\n",
              "          const element = document.querySelector('#df-3df498e8-6e2b-4af7-8c14-8b4250eb3abd');\n",
              "          const dataTable =\n",
              "            await google.colab.kernel.invokeFunction('convertToInteractive',\n",
              "                                                     [key], {});\n",
              "          if (!dataTable) return;\n",
              "\n",
              "          const docLinkHtml = 'Like what you see? Visit the ' +\n",
              "            '<a target=\"_blank\" href=https://colab.research.google.com/notebooks/data_table.ipynb>data table notebook</a>'\n",
              "            + ' to learn more about interactive tables.';\n",
              "          element.innerHTML = '';\n",
              "          dataTable['output_type'] = 'display_data';\n",
              "          await google.colab.output.renderOutput(dataTable, element);\n",
              "          const docLink = document.createElement('div');\n",
              "          docLink.innerHTML = docLinkHtml;\n",
              "          element.appendChild(docLink);\n",
              "        }\n",
              "      </script>\n",
              "    </div>\n",
              "  </div>\n",
              "  "
            ]
          },
          "metadata": {},
          "execution_count": 182
        }
      ]
    },
    {
      "cell_type": "code",
      "source": [
        "#the features\n",
        "print(data.columns)"
      ],
      "metadata": {
        "colab": {
          "base_uri": "https://localhost:8080/"
        },
        "id": "JFyn3DQK_Uzg",
        "outputId": "2aea739c-d2c3-43fd-ee0b-ce0a4240432b"
      },
      "execution_count": 183,
      "outputs": [
        {
          "output_type": "stream",
          "name": "stdout",
          "text": [
            "Index(['Booking_ID', 'no_of_adults', 'no_of_children', 'no_of_weekend_nights',\n",
            "       'no_of_week_nights', 'type_of_meal_plan', 'required_car_parking_space',\n",
            "       'room_type_reserved', 'lead_time', 'arrival_year', 'arrival_month',\n",
            "       'arrival_date', 'market_segment_type', 'repeated_guest',\n",
            "       'no_of_previous_cancellations', 'no_of_previous_bookings_not_canceled',\n",
            "       'avg_price_per_room', 'no_of_special_requests', 'booking_status'],\n",
            "      dtype='object')\n"
          ]
        }
      ]
    },
    {
      "cell_type": "markdown",
      "source": [
        "Features:\n",
        "\n",
        "**Booking_ID:** unique identifier of each booking\n",
        "\n",
        "**no_of_adults:** Number of adults\n",
        "\n",
        "**no_of_children:** Number of Children\n",
        "\n",
        "**no_of_weekend_nights:** Number of weekend nights (Saturday or Sunday) the guest stayed or booked to stay at the hotel\n",
        "\n",
        "**no_of_week_nights:** Number of weekend nights (Saturday or Sunday) the guest stayed or booked to stay at the hotel\n",
        "\n",
        "**type_of_meal_plan:** Type of meal plan booked by the customer\n",
        "\n",
        "**required_car_parking_space:** Does the customer require a car parking space? (0 - No, 1- Yes)\n",
        "\n",
        "**room_type_reserved:** Type of room reserved by the customer. The values are ciphered (encoded) by INN Hotels.\n",
        "\n",
        "**lead_time:** Number of days between the date of booking and the arrival date\n",
        "\n",
        "**arrival_year:** Year of arrival date\n",
        "\n",
        "**arrival_month:** Month of arrival date\n",
        "\n",
        "**arrival_date:** Date of the month\n",
        "\n",
        "**market_segment_type:** Market segment designation.\n",
        "\n",
        "**repeated_guest:** Is the customer a repeated guest? (0 - No, 1- Yes)\n",
        "\n",
        "**no_of_previous_cancellations:** Number of previous bookings that were canceled by the customer prior to the current booking\n",
        "\n",
        "**no_of_previous_bookings_not_canceled:** Number of previous bookings not canceled by the customer prior to the current booking\n",
        "\n",
        "**avg_price_per_room:** Average price per day of the reservation; prices of the rooms are dynamic. (in euros)\n",
        "\n",
        "**no_of_special_requests:** Total number of special requests made by the customer (e.g. high floor, view from the room, etc)\n",
        "\n",
        "\n",
        "Response:\n",
        "\n",
        "**booking_status:** Flag indicating if the booking was canceled or not."
      ],
      "metadata": {
        "id": "KJ-JZGIh9eS3"
      }
    },
    {
      "cell_type": "code",
      "source": [
        "# visualize the relationship between the features and the response using scatterplots\n",
        "\n",
        "sns.pairplot(data, y_vars = 'booking_status')"
      ],
      "metadata": {
        "colab": {
          "base_uri": "https://localhost:8080/",
          "height": 80
        },
        "id": "jcnSvc3bH_dn",
        "outputId": "3c5fd595-013f-465d-8f1e-914e3e746508"
      },
      "execution_count": 184,
      "outputs": [
        {
          "output_type": "execute_result",
          "data": {
            "text/plain": [
              "<seaborn.axisgrid.PairGrid at 0x7f3cb507b910>"
            ]
          },
          "metadata": {},
          "execution_count": 184
        },
        {
          "output_type": "display_data",
          "data": {
            "text/plain": [
              "<Figure size 2520x180 with 14 Axes>"
            ],
            "image/png": "[encoded data removed]"
          },
          "metadata": {
            "needs_background": "light"
          }
        }
      ]
    },
    {
      "cell_type": "code",
      "source": [
        "# visualize the number of indivisuals vs where they fit in each feature\n",
        "plt.figure(figsize = (20,25))\n",
        "plt.subplot(4,2,1)\n",
        "plt.gca().set_title('Number Of Adults')\n",
        "sns.countplot(x = 'no_of_adults', palette = 'Set2', data = data)\n",
        "\n",
        "plt.subplot(4,2,2)\n",
        "plt.gca().set_title('Number Of Children')\n",
        "sns.countplot(x = 'no_of_children', palette = 'Set2', data = data)\n",
        "\n",
        "plt.subplot(4,2,3)\n",
        "plt.gca().set_title('Number Of Weekend Nights')\n",
        "sns.countplot(x = 'no_of_weekend_nights', palette = 'Set2', data = data)\n",
        "\n",
        "plt.subplot(4,2,4)\n",
        "plt.gca().set_title('Number Of Week Nights')\n",
        "sns.countplot(x = 'no_of_week_nights', palette = 'Set2', data = data)\n",
        "\n",
        "plt.subplot(4,2,5)\n",
        "plt.gca().set_title('Type Of Meal Plan')\n",
        "sns.countplot(x = 'type_of_meal_plan', palette = 'Set2', data = data)\n",
        "\n",
        "plt.subplot(4,2,6)\n",
        "plt.gca().set_title('Required Car Parking Space')\n",
        "sns.countplot(x = 'required_car_parking_space', palette = 'Set2', data = data)\n",
        "\n",
        "plt.subplot(4,2,7)\n",
        "plt.gca().set_title('Room Type Reserved')\n",
        "sns.countplot(x = 'room_type_reserved', palette = 'Set2', data = data)\n",
        "\n",
        "plt.subplot(4,2,8)\n",
        "plt.gca().set_title('Arrival_year')\n",
        "sns.countplot(x = 'arrival_year', palette = 'Set2', data = data)\n",
        "\n",
        "plt.figure(figsize = (20,25))\n",
        "\n",
        "plt.subplot(3,2,1)\n",
        "plt.gca().set_title('Arrival Month')\n",
        "sns.countplot(x = 'arrival_month', palette = 'Set2', data = data)\n",
        "\n",
        "plt.subplot(3,2,2)\n",
        "plt.gca().set_title('Market Segment Type')\n",
        "sns.countplot(x = 'market_segment_type', palette = 'Set2', data = data)\n",
        "\n",
        "plt.subplot(3,2,3)\n",
        "plt.gca().set_title('Repeated Guest')\n",
        "sns.countplot(x = 'repeated_guest', palette = 'Set2', data = data)\n",
        "\n",
        "plt.subplot(3,2,4)\n",
        "plt.gca().set_title('Number Of Previous Cancellations')\n",
        "sns.countplot(x = 'no_of_previous_cancellations', palette = 'Set2', data = data)\n",
        "\n",
        "plt.subplot(3,2,5)\n",
        "plt.gca().set_title('Number Of Special Requests')\n",
        "sns.countplot(x = 'no_of_special_requests', palette = 'Set2', data = data)\n",
        "\n",
        "plt.subplot(3,2,6)\n",
        "plt.gca().set_title('Booking Status')\n",
        "sns.countplot(x = 'booking_status', palette = 'Set2', data = data)"
      ],
      "metadata": {
        "colab": {
          "base_uri": "https://localhost:8080/",
          "height": 1000
        },
        "id": "Odk4A_iWcCtx",
        "outputId": "b77aadc0-85ad-4cf6-b59a-728125540330"
      },
      "execution_count": 185,
      "outputs": [
        {
          "output_type": "execute_result",
          "data": {
            "text/plain": [
              "<AxesSubplot:title={'center':'Booking Status'}, xlabel='booking_status', ylabel='count'>"
            ]
          },
          "metadata": {},
          "execution_count": 185
        },
        {
          "output_type": "display_data",
          "data": {
            "text/plain": [
              "<Figure size 1440x1800 with 8 Axes>"
            ],
            "image/png": "[encoded data removed]"
          },
          "metadata": {
            "needs_background": "light"
          }
        },
        {
          "output_type": "display_data",
          "data": {
            "text/plain": [
              "<Figure size 1440x1800 with 6 Axes>"
            ],
            "image/png": "[encoded data removed]"
          },
          "metadata": {
            "needs_background": "light"
          }
        }
      ]
    },
    {
      "cell_type": "markdown",
      "source": [
        "We need to change the features that have test to be represented as numerical value."
      ],
      "metadata": {
        "id": "tzSjYIrbLAWu"
      }
    },
    {
      "cell_type": "code",
      "source": [
        "label_segment = LabelEncoder()\n",
        "label_status = LabelEncoder()\n",
        "label_meal_plan = LabelEncoder()\n",
        "label_reserved = LabelEncoder()\n",
        "\n",
        "data['booking_status'] = label_status.fit_transform(data['booking_status'])\n",
        "data['type_of_meal_plan'] = label_meal_plan.fit_transform(data['type_of_meal_plan'])\n",
        "data['market_segment_type'] = label_segment.fit_transform(data['market_segment_type'])\n",
        "data['room_type_reserved'] = label_reserved.fit_transform(data['room_type_reserved'])\n",
        "\n",
        "name_mapping = dict(zip(label_status.classes_, label_status.transform(label_status.classes_)))\n",
        "print(name_mapping)"
      ],
      "metadata": {
        "colab": {
          "base_uri": "https://localhost:8080/"
        },
        "id": "JXH1z3z8K_rb",
        "outputId": "8cfea186-c7d4-408a-84c6-d0c704c17a1e"
      },
      "execution_count": 186,
      "outputs": [
        {
          "output_type": "stream",
          "name": "stdout",
          "text": [
            "{'Canceled': 0, 'Not_Canceled': 1}\n"
          ]
        }
      ]
    },
    {
      "cell_type": "code",
      "source": [
        "#remove the booking ID (not needed)\n",
        "data = data.drop('Booking_ID', axis = 1)\n",
        "\n",
        "#remove the booking status (the variable we are trying to predict)\n",
        "X = data.drop('booking_status', axis = 1)\n",
        "\n",
        "#The Goal (prediction)\n",
        "y = data['booking_status']"
      ],
      "metadata": {
        "id": "32TNJPHyQIGj"
      },
      "execution_count": 187,
      "outputs": []
    },
    {
      "cell_type": "code",
      "source": [
        "#splitting the data into a training set and a testing set\n",
        "X_train, X_test, y_train, y_test = train_test_split(X, y, test_size=0.2, random_state=4)\n",
        "\n",
        "print(X_train.shape)\n",
        "print(X_test.shape)\n",
        "\n",
        "print(y_train.shape)\n",
        "print(y_test.shape)"
      ],
      "metadata": {
        "colab": {
          "base_uri": "https://localhost:8080/"
        },
        "id": "efPuSSTz_zVx",
        "outputId": "87c88a59-bb3d-43dc-c2a7-4ffe8245b518"
      },
      "execution_count": 188,
      "outputs": [
        {
          "output_type": "stream",
          "name": "stdout",
          "text": [
            "(29020, 17)\n",
            "(7255, 17)\n",
            "(29020,)\n",
            "(7255,)\n"
          ]
        }
      ]
    },
    {
      "cell_type": "markdown",
      "source": [
        "**KNN model:**"
      ],
      "metadata": {
        "id": "yAYL4kAj_uTr"
      }
    },
    {
      "cell_type": "code",
      "source": [
        "# try with k = 3\n",
        "k = 3\n",
        "\n",
        "#to ensure the same results \n",
        "np.random.seed(40)\n",
        "\n",
        "knn = KNeighborsClassifier(n_neighbors=k)\n",
        "knn.fit(X_train, y_train)\n",
        "\n",
        "y_pred = knn.predict(X_test)\n",
        "\n",
        "#the accurecy\n",
        "print(\"Accuracy of the KNN predictor with k=\" + str(k)+\": \" + str(metrics.accuracy_score(y_test, y_pred)))"
      ],
      "metadata": {
        "colab": {
          "base_uri": "https://localhost:8080/"
        },
        "id": "O78LaEodT0f-",
        "outputId": "d8af57e8-1454-44b5-8e9b-ead3b7151548"
      },
      "execution_count": 189,
      "outputs": [
        {
          "output_type": "stream",
          "name": "stdout",
          "text": [
            "Accuracy of the KNN predictor with k=3: 0.8046864231564438\n"
          ]
        }
      ]
    },
    {
      "cell_type": "markdown",
      "source": [
        "let's try to plot the accurecy for k = 1 to k = 30, to try and visualize the best k to choose."
      ],
      "metadata": {
        "id": "w2AB3xxbU_1P"
      }
    },
    {
      "cell_type": "code",
      "source": [
        "k_range = range(1, 30)\n",
        "\n",
        "scores = []\n",
        "\n",
        "# We append the scores in the dictionary\n",
        "for k in k_range:\n",
        "    knn = KNeighborsClassifier(n_neighbors=k)\n",
        "    knn.fit(X_train, y_train)\n",
        "    y_pred = knn.predict(X_test)\n",
        "    scores.append(metrics.accuracy_score(y_test, y_pred))\n",
        "\n",
        "print(scores)"
      ],
      "metadata": {
        "colab": {
          "base_uri": "https://localhost:8080/"
        },
        "id": "AoPW4nMyU84X",
        "outputId": "08722061-59ea-43d1-c963-ac0078dd48cc"
      },
      "execution_count": 190,
      "outputs": [
        {
          "output_type": "stream",
          "name": "stdout",
          "text": [
            "[0.8114403859407305, 0.760303239145417, 0.8046864231564438, 0.7816678152997932, 0.8063404548587181, 0.791592005513439, 0.8077188146106133, 0.7953135768435562, 0.8038594073053067, 0.7946243969676086, 0.8001378359751895, 0.7953135768435562, 0.8031702274293591, 0.7988973121984838, 0.8044107512060648, 0.7993108201240524, 0.8001378359751895, 0.7961405926946933, 0.8005513439007581, 0.7975189524465885, 0.7995864920744314, 0.7950379048931772, 0.7946243969676086, 0.7936595451412819, 0.7931082012405237, 0.7924190213645762, 0.7950379048931772, 0.791592005513439, 0.7909028256374914]\n"
          ]
        }
      ]
    },
    {
      "cell_type": "code",
      "source": [
        "# plot the relationship between K and testing accuracy\n",
        "plt.plot(k_range, scores)\n",
        "plt.xlabel('Value of K for KNN')\n",
        "plt.ylabel('Testing Accuracy')"
      ],
      "metadata": {
        "colab": {
          "base_uri": "https://localhost:8080/",
          "height": 296
        },
        "id": "ZCgmqBDLUqch",
        "outputId": "a6797caa-6c01-49fb-ad15-a8733b91da74"
      },
      "execution_count": 191,
      "outputs": [
        {
          "output_type": "execute_result",
          "data": {
            "text/plain": [
              "Text(0, 0.5, 'Testing Accuracy')"
            ]
          },
          "metadata": {},
          "execution_count": 191
        },
        {
          "output_type": "display_data",
          "data": {
            "text/plain": [
              "<Figure size 432x288 with 1 Axes>"
            ],
            "image/png": "[encoded data removed]"
          },
          "metadata": {
            "needs_background": "light"
          }
        }
      ]
    },
    {
      "cell_type": "markdown",
      "source": [
        "The plot shows that the accuracy appears to be changing rapidly as k changes. But there is a maximum at k = 1\n",
        "\n",
        "\n",
        "let's do it again using Cross-Validation"
      ],
      "metadata": {
        "id": "iVfEY14QV6MT"
      }
    },
    {
      "cell_type": "code",
      "source": [
        "cross_scores = []\n",
        "for k in k_range:\n",
        "    knn = KNeighborsClassifier(n_neighbors=k)\n",
        "    scores = cross_val_score(knn, X_train, y_train, cv=10, scoring='accuracy')\n",
        "    cross_scores.append(scores.mean())\n",
        "print(cross_scores)\n"
      ],
      "metadata": {
        "colab": {
          "base_uri": "https://localhost:8080/"
        },
        "id": "OqpMGgxjGoCH",
        "outputId": "295ef6b4-550c-4664-a87e-0cff609da842"
      },
      "execution_count": 192,
      "outputs": [
        {
          "output_type": "stream",
          "name": "stdout",
          "text": [
            "[0.8099241902136459, 0.7648518263266713, 0.8061681598897312, 0.7854927636113025, 0.8057546519641626, 0.791040661612681, 0.8037904893177119, 0.794486560992419, 0.8038249483115093, 0.7971743625086148, 0.8042039972432805, 0.7998621640248105, 0.8041695382494831, 0.8002412129565816, 0.8036871123363196, 0.7988628532046864, 0.8012405237767057, 0.7987939352170917, 0.8010682288077188, 0.7975189524465887, 0.7991729841488628, 0.7957960027567196, 0.7966919365954513, 0.7944176430048243, 0.7955892487939352, 0.7940041350792557, 0.795382494831151, 0.793590627153687, 0.7952446588559614]\n"
          ]
        }
      ]
    },
    {
      "cell_type": "code",
      "source": [
        "plt.plot(k_range, cross_scores)\n",
        "plt.xlabel('Value of K for KNN')\n",
        "plt.ylabel('Cross-Validated Accuracy')"
      ],
      "metadata": {
        "colab": {
          "base_uri": "https://localhost:8080/",
          "height": 296
        },
        "id": "hfczxjD8p1bg",
        "outputId": "def2ab0e-86f1-48d0-cb78-96268c686763"
      },
      "execution_count": 193,
      "outputs": [
        {
          "output_type": "execute_result",
          "data": {
            "text/plain": [
              "Text(0, 0.5, 'Cross-Validated Accuracy')"
            ]
          },
          "metadata": {},
          "execution_count": 193
        },
        {
          "output_type": "display_data",
          "data": {
            "text/plain": [
              "<Figure size 432x288 with 1 Axes>"
            ],
            "image/png": "[encoded data removed]"
          },
          "metadata": {
            "needs_background": "light"
          }
        }
      ]
    },
    {
      "cell_type": "markdown",
      "source": [
        "the train-test split produces a slightly better results (0.001), and it is much faster. so i will be using train-split split with k = 1.\n",
        "\n",
        "even though the result diffrence is small, it may indicate overfitting. So, i will be preforming feature Selection and OverSampling"
      ],
      "metadata": {
        "id": "rg3h280o_cC5"
      }
    },
    {
      "cell_type": "code",
      "source": [
        "#test the accuracy for k = 1\n",
        "k = 1\n",
        "knn = KNeighborsClassifier(n_neighbors=k)\n",
        "knn.fit(X_train, y_train)\n",
        "\n",
        "y_pred = knn.predict(X_test)\n",
        "\n",
        "#the accurecy\n",
        "print(\"Accuracy of the KNN predictor with k=\" + str(k)+\": \" + str(metrics.accuracy_score(y_test, y_pred)))"
      ],
      "metadata": {
        "colab": {
          "base_uri": "https://localhost:8080/"
        },
        "id": "kDp-OyPfxJrq",
        "outputId": "65478ec4-e36e-460c-e5df-a33004f6103d"
      },
      "execution_count": 194,
      "outputs": [
        {
          "output_type": "stream",
          "name": "stdout",
          "text": [
            "Accuracy of the KNN predictor with k=1: 0.8114403859407305\n"
          ]
        }
      ]
    },
    {
      "cell_type": "markdown",
      "source": [
        "After Asking ChatGPT a few questions (can be found at the end), i have decided to OverSample the minority class (canceled reservations) to help the model make non biased and accurate decisions. And to do it after feature selection"
      ],
      "metadata": {
        "id": "xlhWgUhiK85v"
      }
    },
    {
      "cell_type": "markdown",
      "source": [
        "But first we need to scale the features in out data"
      ],
      "metadata": {
        "id": "hh0ag-RjBGbc"
      }
    },
    {
      "cell_type": "code",
      "source": [
        "scaler = StandardScaler()\n",
        "X_scaled = scaler.fit_transform(X)\n",
        "\n",
        "X_train, X_test, y_train, y_test = train_test_split(X_scaled, y, test_size=0.2, random_state=4)"
      ],
      "metadata": {
        "id": "zaXK0qScBAAW"
      },
      "execution_count": 195,
      "outputs": []
    },
    {
      "cell_type": "code",
      "source": [
        "k = 1\n",
        "knn = KNeighborsClassifier(n_neighbors=k)\n",
        "knn.fit(X_train, y_train)\n",
        "\n",
        "y_pred = knn.predict(X_test)\n",
        "\n",
        "#the accurecy\n",
        "print(\"Accuracy of the KNN predictor after scalling with k=\" + str(k)+\": \" + str(metrics.accuracy_score(y_test, y_pred)))"
      ],
      "metadata": {
        "colab": {
          "base_uri": "https://localhost:8080/"
        },
        "id": "cwRDCq10LZmD",
        "outputId": "2324b234-5411-4736-c35d-304ec8c0812e"
      },
      "execution_count": 196,
      "outputs": [
        {
          "output_type": "stream",
          "name": "stdout",
          "text": [
            "Accuracy of the KNN predictor after scalling with k=1: 0.8412129565816678\n"
          ]
        }
      ]
    },
    {
      "cell_type": "markdown",
      "source": [
        "next, we will try doing featureSelection"
      ],
      "metadata": {
        "id": "TvbfMtHsf_SK"
      }
    },
    {
      "cell_type": "code",
      "source": [
        "print(\"The data set Originaly contains \" + str(X.shape[1]) + \" dimensions.\")\n",
        "\n",
        "clf = DecisionTreeClassifier(random_state = 40)\n",
        "clf.fit(X_scaled, y)\n",
        "\n",
        "trans = SelectFromModel(clf, threshold='median')\n",
        "X_trans = trans.fit_transform(X_scaled, y)\n",
        "\n",
        "X_train, X_test, y_train, y_test = train_test_split(X_trans, y, test_size=0.2, random_state=4)\n",
        "\n",
        "\n",
        "print(\"now the data set contains \" + str(X_trans.shape[1]) + \" dimensions.\")"
      ],
      "metadata": {
        "colab": {
          "base_uri": "https://localhost:8080/"
        },
        "id": "r36m8mEYf-hs",
        "outputId": "1b9c4cb7-ffa6-43d0-fde5-8b6bec9da435"
      },
      "execution_count": 197,
      "outputs": [
        {
          "output_type": "stream",
          "name": "stdout",
          "text": [
            "The data set Originaly contains 17 dimensions.\n",
            "now the data set contains 9 dimensions.\n"
          ]
        }
      ]
    },
    {
      "cell_type": "code",
      "source": [
        "k = 1\n",
        "knn = KNeighborsClassifier(n_neighbors=k)\n",
        "knn.fit(X_train, y_train)\n",
        "\n",
        "y_pred = knn.predict(X_test)\n",
        "\n",
        "#the accurecy\n",
        "print(\"Accuracy of the KNN predictor after feature selection with k=\" + str(k)+\": \" + str(metrics.accuracy_score(y_test, y_pred)))"
      ],
      "metadata": {
        "colab": {
          "base_uri": "https://localhost:8080/"
        },
        "id": "cEyOXucHCEzn",
        "outputId": "20322ed4-8cf3-4da2-d9b7-fa418b78bbfd"
      },
      "execution_count": 198,
      "outputs": [
        {
          "output_type": "stream",
          "name": "stdout",
          "text": [
            "Accuracy of the KNN predictor after feature selection with k=1: 0.8398345968297726\n"
          ]
        }
      ]
    },
    {
      "cell_type": "markdown",
      "source": [
        "Now, try PCA to see if it gives a better result"
      ],
      "metadata": {
        "id": "17ALNOkyzqIo"
      }
    },
    {
      "cell_type": "code",
      "source": [
        "# Instantiate\n",
        "pca = PCA(n_components=2,random_state = 40)\n",
        "\n",
        "# Fit and Apply dimensionality reduction on X\n",
        "Z = pca.fit_transform(X_scaled)\n",
        "\n",
        "X_train, X_test, y_train, y_test = train_test_split(Z, y, test_size=0.2, random_state=4)"
      ],
      "metadata": {
        "id": "i1HXB5oXDjgk"
      },
      "execution_count": 199,
      "outputs": []
    },
    {
      "cell_type": "code",
      "source": [
        "k = 1\n",
        "knn = KNeighborsClassifier(n_neighbors=k)\n",
        "knn.fit(X_train, y_train)\n",
        "\n",
        "y_pred = knn.predict(X_test)\n",
        "\n",
        "#the accurecy\n",
        "print(\"Accuracy of the PCA KNN predictor with k=\" + str(k)+\": \" + str(metrics.accuracy_score(y_test, y_pred)))"
      ],
      "metadata": {
        "colab": {
          "base_uri": "https://localhost:8080/"
        },
        "id": "Epvx2wPWEF_t",
        "outputId": "8baa64bf-c89e-4532-f633-061a89f6e0a4"
      },
      "execution_count": 200,
      "outputs": [
        {
          "output_type": "stream",
          "name": "stdout",
          "text": [
            "Accuracy of the PCA KNN predictor with k=1: 0.7671950379048932\n"
          ]
        }
      ]
    },
    {
      "cell_type": "markdown",
      "source": [
        "feature selection increases the accuracy of the model by 0.028, while PCA decreased the accuracy. as a result, i will be using the feature selected data to oversample."
      ],
      "metadata": {
        "id": "Yz5f26ZE_nV5"
      }
    },
    {
      "cell_type": "markdown",
      "source": [
        "Now we will try to OverSample the minority class (Canceled reservations)"
      ],
      "metadata": {
        "id": "71ZFW78J0NyQ"
      }
    },
    {
      "cell_type": "code",
      "source": [
        "#overSampling\n",
        "oversampler = RandomOverSampler(random_state=40)\n",
        "\n",
        "X, y = oversampler.fit_resample(X_trans, y)\n",
        "\n",
        "X_train, X_test, y_train, y_test = train_test_split(X, y, test_size=0.2, random_state=4)\n",
        "\n",
        "\n",
        "#plot it after OverSampling\n",
        "plt.figure(figsize=(8, 5))\n",
        "plt.hist(y, bins=2, color='green', alpha=0.5)\n",
        "plt.title('Distribution of Booking Status after Oversampling')\n",
        "plt.xlabel('Booking Status')\n",
        "plt.ylabel('Count')\n",
        "plt.xticks([0, 1], ['Canceled', 'Not Canceled'])\n",
        "plt.show()"
      ],
      "metadata": {
        "colab": {
          "base_uri": "https://localhost:8080/",
          "height": 350
        },
        "id": "VCfXlSeEUuHQ",
        "outputId": "b09426f9-a30e-4c1d-d096-9ea0d1707c9c"
      },
      "execution_count": 201,
      "outputs": [
        {
          "output_type": "display_data",
          "data": {
            "text/plain": [
              "<Figure size 576x360 with 1 Axes>"
            ],
            "image/png": "[encoded data removed]"
          },
          "metadata": {
            "needs_background": "light"
          }
        }
      ]
    },
    {
      "cell_type": "code",
      "source": [
        "k = 1\n",
        "knn = KNeighborsClassifier(n_neighbors=k)\n",
        "knn.fit(X_train, y_train)\n",
        "\n",
        "y_pred = knn.predict(X_test)\n",
        "\n",
        "#the accurecy\n",
        "print(\"Accuracy of the oversampled KNN predictor with k=\" + str(k)+\": \" + str(metrics.accuracy_score(y_test, y_pred)))"
      ],
      "metadata": {
        "colab": {
          "base_uri": "https://localhost:8080/"
        },
        "id": "LXzVyodRBXTw",
        "outputId": "7ab16cfe-edb6-44e5-8849-df29db3e0291"
      },
      "execution_count": 202,
      "outputs": [
        {
          "output_type": "stream",
          "name": "stdout",
          "text": [
            "Accuracy of the oversampled KNN predictor with k=1: 0.9093890938909389\n"
          ]
        }
      ]
    },
    {
      "cell_type": "markdown",
      "source": [
        "oversampling shows a 0.069 improvment in accuracy."
      ],
      "metadata": {
        "id": "I85VvyBKBcsc"
      }
    },
    {
      "cell_type": "code",
      "source": [
        "train_sizes, train_scores, test_scores = learning_curve(knn, X, y, cv=30, train_sizes = np.linspace(0.1, 1.0, 9),random_state = 40)\n",
        "\n",
        "train_mean = np.mean(train_scores,axis=1)\n",
        "test_mean = np.mean(test_scores,axis=1)\n",
        "\n",
        "plt.plot(train_sizes,train_mean, label='Training Accuracy')\n",
        "plt.plot(train_sizes,test_mean, label='Validation Accuracy')\n",
        "plt.title('Learning Curve - KNN')\n",
        "plt.xlabel('Training Data Size')\n",
        "plt.ylabel('Model accuracy')\n",
        "plt.legend(loc='lower right')\n",
        "plt.show()"
      ],
      "metadata": {
        "colab": {
          "base_uri": "https://localhost:8080/",
          "height": 295
        },
        "id": "gu_b89JFEjKC",
        "outputId": "e0ee7450-acd4-4969-eb78-932a7c53d857"
      },
      "execution_count": 203,
      "outputs": [
        {
          "output_type": "display_data",
          "data": {
            "text/plain": [
              "<Figure size 432x288 with 1 Axes>"
            ],
            "image/png": "[encoded data removed]"
          },
          "metadata": {
            "needs_background": "light"
          }
        }
      ]
    },
    {
      "cell_type": "markdown",
      "source": [
        "The learning curve shows that the model might be overfitting since the training accuracy stayed very close to 1. which indicates that the model is learning the noise in the data rather than ignoring them."
      ],
      "metadata": {
        "id": "zcl3tmVoGvqc"
      }
    },
    {
      "cell_type": "code",
      "source": [
        "cm = confusion_matrix(y_test, y_pred)\n",
        "sns.heatmap(cm, annot=True, cmap='Blues', fmt='g')\n",
        "print(cm)"
      ],
      "metadata": {
        "colab": {
          "base_uri": "https://localhost:8080/",
          "height": 304
        },
        "id": "Lxrm2-uKFW__",
        "outputId": "b8870842-4641-446f-b805-0e06b36ed91e"
      },
      "execution_count": 204,
      "outputs": [
        {
          "output_type": "stream",
          "name": "stdout",
          "text": [
            "[[4508  291]\n",
            " [ 593 4364]]\n"
          ]
        },
        {
          "output_type": "display_data",
          "data": {
            "text/plain": [
              "<Figure size 432x288 with 2 Axes>"
            ],
            "image/png": "[encoded data removed]"
          },
          "metadata": {
            "needs_background": "light"
          }
        }
      ]
    },
    {
      "cell_type": "markdown",
      "source": [
        "The confusion matrix shows:\n",
        "- True Negative is 4508\n",
        "- True Positive is 4364\n",
        "- False Positives is 291\n",
        "- False Negatives is 593\n",
        "\n",
        "it shows that the model is more likely to wrongfuly predict the reservations that will be Canceled (predict them as non-canceled) rather than the ones that will not be canceled (predicting them as canceled)\n",
        "\n",
        "---\n",
        "\n",
        "**KNN final accuracy is 90.93%**"
      ],
      "metadata": {
        "id": "yqzC0kIkH5ZL"
      }
    },
    {
      "cell_type": "markdown",
      "source": [
        "\n",
        "\n",
        "---\n",
        "\n",
        "**Logistic Regression:Model**"
      ],
      "metadata": {
        "id": "qC4sV1o0KL_J"
      }
    },
    {
      "cell_type": "code",
      "source": [
        "#reset the X and y sets\n",
        "X = data.drop('booking_status', axis = 1)\n",
        "\n",
        "#The Goal (prediction)\n",
        "y = data['booking_status']\n",
        "\n",
        "X_train, X_test, y_train, y_test = train_test_split(X, y, test_size=0.2, random_state=4)"
      ],
      "metadata": {
        "id": "fqwZ8-yTUyBP"
      },
      "execution_count": 205,
      "outputs": []
    },
    {
      "cell_type": "code",
      "source": [
        "logreg = LogisticRegression(random_state = 40)\n",
        "\n",
        "#train\n",
        "logreg.fit(X_train, y_train)\n",
        "\n",
        "#test\n",
        "y_pred = logreg.predict(X_test)\n",
        "\n",
        "\n",
        "#the accurecy\n",
        "print(\"Accuracy of the Logistic Regression predictor is:\" + str(metrics.accuracy_score(y_test, y_pred)) + '\\n\\n')\n"
      ],
      "metadata": {
        "colab": {
          "base_uri": "https://localhost:8080/"
        },
        "id": "Ye6D1d7SPi23",
        "outputId": "80902aac-1820-48fc-9eb7-df8c34db3717"
      },
      "execution_count": 206,
      "outputs": [
        {
          "output_type": "stream",
          "name": "stdout",
          "text": [
            "Accuracy of the Logistic Regression predictor is:0.7875947622329428\n",
            "\n",
            "\n"
          ]
        },
        {
          "output_type": "stream",
          "name": "stderr",
          "text": [
            "/usr/local/lib/python3.8/dist-packages/sklearn/linear_model/_logistic.py:458: ConvergenceWarning: lbfgs failed to converge (status=1):\n",
            "STOP: TOTAL NO. of ITERATIONS REACHED LIMIT.\n",
            "\n",
            "Increase the number of iterations (max_iter) or scale the data as shown in:\n",
            "    https://scikit-learn.org/stable/modules/preprocessing.html\n",
            "Please also refer to the documentation for alternative solver options:\n",
            "    https://scikit-learn.org/stable/modules/linear_model.html#logistic-regression\n",
            "  n_iter_i = _check_optimize_result(\n"
          ]
        }
      ]
    },
    {
      "cell_type": "markdown",
      "source": [
        "Following the warning i will try first to increase the max_iter"
      ],
      "metadata": {
        "id": "Osld9dgwQyWG"
      }
    },
    {
      "cell_type": "code",
      "source": [
        "logreg = LogisticRegression(max_iter=1000, random_state = 40)\n",
        "\n",
        "#train\n",
        "logreg.fit(X_train, y_train)\n",
        "\n",
        "#test\n",
        "y_pred = logreg.predict(X_test)\n",
        "\n",
        "#the accurecy\n",
        "print(\"Accuracy of the Logistic Regression predictor is:\" + str(metrics.accuracy_score(y_test, y_pred)))"
      ],
      "metadata": {
        "colab": {
          "base_uri": "https://localhost:8080/"
        },
        "id": "BdWDlRsOQv2D",
        "outputId": "96f7ea64-7e19-4880-af8f-e184a6692303"
      },
      "execution_count": 207,
      "outputs": [
        {
          "output_type": "stream",
          "name": "stdout",
          "text": [
            "Accuracy of the Logistic Regression predictor is:0.7940730530668505\n"
          ]
        }
      ]
    },
    {
      "cell_type": "markdown",
      "source": [
        "Next i will try scaling the data"
      ],
      "metadata": {
        "id": "UVe-1CSLRQEv"
      }
    },
    {
      "cell_type": "code",
      "source": [
        "scaler = StandardScaler()\n",
        "X_scaled = scaler.fit_transform(X)\n",
        "\n",
        "X_train, X_test, y_train, y_test = train_test_split(X_scaled, y, test_size=0.2, random_state=4)\n",
        "\n",
        "logreg = LogisticRegression(random_state = 40)\n",
        "\n",
        "#train\n",
        "logreg.fit(X_train, y_train)\n",
        "\n",
        "#test\n",
        "y_pred = logreg.predict(X_test)\n",
        "\n",
        "#the accurecy\n",
        "print(\"Accuracy of the scaled Logistic Regression predictor is:\" + str(metrics.accuracy_score(y_test, y_pred)))"
      ],
      "metadata": {
        "colab": {
          "base_uri": "https://localhost:8080/"
        },
        "id": "h0RhlVneRgmI",
        "outputId": "8fdefc9d-4842-40f1-b500-c1eb37d01d87"
      },
      "execution_count": 208,
      "outputs": [
        {
          "output_type": "stream",
          "name": "stdout",
          "text": [
            "Accuracy of the scaled Logistic Regression predictor is:0.7988973121984838\n"
          ]
        }
      ]
    },
    {
      "cell_type": "markdown",
      "source": [
        "Scaling the data improved the accuracy more than increasing the number of iterations (max_iter) did. so, i will be using the scaled data\n",
        "\n",
        "Now, i will try feature Selection"
      ],
      "metadata": {
        "id": "dHrnYWHxR_2e"
      }
    },
    {
      "cell_type": "code",
      "source": [
        "print(\"The data set Originaly contains \" + str(X.shape[1]) + \" dimensions.\")\n",
        "\n",
        "clf = DecisionTreeClassifier(random_state = 40)\n",
        "clf.fit(X_scaled, y)\n",
        "\n",
        "trans = SelectFromModel(clf, threshold='median')\n",
        "X_trans = trans.fit_transform(X_scaled, y)\n",
        "\n",
        "X_train, X_test, y_train, y_test = train_test_split(X_trans, y, test_size=0.2, random_state=4)\n",
        "\n",
        "\n",
        "print(\"now the data set contains \" + str(X_trans.shape[1]) + \" dimensions.\")"
      ],
      "metadata": {
        "colab": {
          "base_uri": "https://localhost:8080/"
        },
        "id": "xpMPjo52SWv-",
        "outputId": "4fca0c7b-6414-4f33-fa5b-17b6f9a3cb15"
      },
      "execution_count": 209,
      "outputs": [
        {
          "output_type": "stream",
          "name": "stdout",
          "text": [
            "The data set Originaly contains 17 dimensions.\n",
            "now the data set contains 9 dimensions.\n"
          ]
        }
      ]
    },
    {
      "cell_type": "code",
      "source": [
        "logreg = LogisticRegression(random_state = 40)\n",
        "\n",
        "#train\n",
        "logreg.fit(X_train, y_train)\n",
        "\n",
        "#test\n",
        "y_pred = logreg.predict(X_test)\n",
        "\n",
        "#the accurecy\n",
        "print(\"Accuracy of the feature selected Logistic Regression predictor is:\" + str(metrics.accuracy_score(y_test, y_pred)))"
      ],
      "metadata": {
        "colab": {
          "base_uri": "https://localhost:8080/"
        },
        "id": "FlayLGsPSmJ8",
        "outputId": "b9bf21e8-4c03-49d2-e7be-4444259633a0"
      },
      "execution_count": 210,
      "outputs": [
        {
          "output_type": "stream",
          "name": "stdout",
          "text": [
            "Accuracy of the feature selected Logistic Regression predictor is:0.7953135768435562\n"
          ]
        }
      ]
    },
    {
      "cell_type": "markdown",
      "source": [
        "feature selection decreased the accurace\n",
        "\n",
        "Next, i will try PCA"
      ],
      "metadata": {
        "id": "Gn1l9E4VSpkO"
      }
    },
    {
      "cell_type": "code",
      "source": [
        "# Instantiate\n",
        "pca = PCA(n_components=2, random_state = 40)\n",
        "\n",
        "# Fit and Apply dimensionality reduction on X\n",
        "Z = pca.fit_transform(X_scaled)\n",
        "\n",
        "X_train, X_test, y_train, y_test = train_test_split(Z, y, test_size=0.2, random_state=4)"
      ],
      "metadata": {
        "id": "2p1F9LwOS7Y_"
      },
      "execution_count": 211,
      "outputs": []
    },
    {
      "cell_type": "code",
      "source": [
        "logreg = LogisticRegression(random_state = 40)\n",
        "\n",
        "#train\n",
        "logreg.fit(X_train, y_train)\n",
        "\n",
        "#test\n",
        "y_pred = logreg.predict(X_test)\n",
        "\n",
        "#the accurecy\n",
        "print(\"Accuracy of the PCA Logistic Regression predictor is:\" + str(metrics.accuracy_score(y_test, y_pred)))"
      ],
      "metadata": {
        "colab": {
          "base_uri": "https://localhost:8080/"
        },
        "id": "j2wQFYARS74C",
        "outputId": "f9b45637-9a6b-4457-cfba-d3145d6ffdc4"
      },
      "execution_count": 212,
      "outputs": [
        {
          "output_type": "stream",
          "name": "stdout",
          "text": [
            "Accuracy of the PCA Logistic Regression predictor is:0.6968986905582357\n"
          ]
        }
      ]
    },
    {
      "cell_type": "markdown",
      "source": [
        "PCA deacreased the result even more than feature selection.\n",
        "\n",
        "So, both PCA and feature selected data will not be processed further.\n",
        "\n",
        "Next, i will try Over sampling the scaled data"
      ],
      "metadata": {
        "id": "BSMcNKkcTEgN"
      }
    },
    {
      "cell_type": "code",
      "source": [
        "#overSampling\n",
        "oversampler = RandomOverSampler(random_state=40)\n",
        "\n",
        "X, y = oversampler.fit_resample(X_scaled, y)\n",
        "\n",
        "X_train, X_test, y_train, y_test = train_test_split(X, y, test_size=0.2, random_state=4)"
      ],
      "metadata": {
        "id": "vGRrlPM3Tqxp"
      },
      "execution_count": 213,
      "outputs": []
    },
    {
      "cell_type": "code",
      "source": [
        "logreg = LogisticRegression(random_state = 40)\n",
        "\n",
        "#train\n",
        "logreg.fit(X_train, y_train)\n",
        "\n",
        "#test\n",
        "y_pred = logreg.predict(X_test)\n",
        "\n",
        "#the accurecy\n",
        "print(\"Accuracy of the oversampled Logistic Regression predictor is:\" + str(metrics.accuracy_score(y_test, y_pred)))"
      ],
      "metadata": {
        "colab": {
          "base_uri": "https://localhost:8080/"
        },
        "id": "D4jTyvRST4cc",
        "outputId": "2072090c-e8ca-4561-d282-450c144223ba"
      },
      "execution_count": 214,
      "outputs": [
        {
          "output_type": "stream",
          "name": "stdout",
          "text": [
            "Accuracy of the oversampled Logistic Regression predictor is:0.7660926609266092\n"
          ]
        }
      ]
    },
    {
      "cell_type": "markdown",
      "source": [
        "Over sampling also reduced the accuracy.\n",
        "\n",
        "So, our best result for logistic regression is from using the scaled data.\n",
        "\n",
        "let's visualize the learning curve for that"
      ],
      "metadata": {
        "id": "gaWYuih_T8fS"
      }
    },
    {
      "cell_type": "code",
      "source": [
        "#reset the X and y sets\n",
        "X = data.drop('booking_status', axis = 1)\n",
        "\n",
        "#The Goal (prediction)\n",
        "y = data['booking_status']\n",
        "\n",
        "#scale it\n",
        "scaler = StandardScaler()\n",
        "X_scaled = scaler.fit_transform(X)\n"
      ],
      "metadata": {
        "id": "UXf2Hv3YVYq8"
      },
      "execution_count": 215,
      "outputs": []
    },
    {
      "cell_type": "code",
      "source": [
        "train_sizes, train_scores, test_scores = learning_curve(logreg, X_scaled, y, cv=30, train_sizes = np.linspace(0.1, 1.0, 9),random_state = 40)\n",
        "\n",
        "train_mean = np.mean(train_scores,axis=1)\n",
        "test_mean = np.mean(test_scores,axis=1)\n",
        "\n",
        "plt.plot(train_sizes,train_mean, label='Training Accuracy')\n",
        "plt.plot(train_sizes,test_mean, label='Validation Accuracy')\n",
        "plt.title('Learning Curve - Logistic regression')\n",
        "plt.xlabel('Training Data Size')\n",
        "plt.ylabel('Model accuracy')\n",
        "plt.legend(loc='lower right')\n",
        "plt.show()"
      ],
      "metadata": {
        "colab": {
          "base_uri": "https://localhost:8080/",
          "height": 295
        },
        "id": "0luGa53qUTeZ",
        "outputId": "738eb8f7-43ff-4ce2-aec5-f3672a8ed81c"
      },
      "execution_count": 216,
      "outputs": [
        {
          "output_type": "display_data",
          "data": {
            "text/plain": [
              "<Figure size 432x288 with 1 Axes>"
            ],
            "image/png": "[encoded data removed]"
          },
          "metadata": {
            "needs_background": "light"
          }
        }
      ]
    },
    {
      "cell_type": "markdown",
      "source": [
        "both the training and testing accuracy are very close, at around 0.8. which indicates that the model is not over-fitting the data and it is generalizing well to new data. additionaly, since the accuracy is around 0.8 which is considred to the low side, the model is likely to be underfitting"
      ],
      "metadata": {
        "id": "oqANKtLEXGss"
      }
    },
    {
      "cell_type": "code",
      "source": [
        "cm = confusion_matrix(y_test, y_pred)\n",
        "\n",
        "# create a heatmap of the confusion matrix using seaborn\n",
        "sns.heatmap(cm, annot=True, cmap='Blues', fmt='g')"
      ],
      "metadata": {
        "colab": {
          "base_uri": "https://localhost:8080/",
          "height": 282
        },
        "id": "81BA9ijXXwTu",
        "outputId": "6b1dc863-4217-4355-856b-365d4252b273"
      },
      "execution_count": 217,
      "outputs": [
        {
          "output_type": "execute_result",
          "data": {
            "text/plain": [
              "<AxesSubplot:>"
            ]
          },
          "metadata": {},
          "execution_count": 217
        },
        {
          "output_type": "display_data",
          "data": {
            "text/plain": [
              "<Figure size 432x288 with 2 Axes>"
            ],
            "image/png": "[encoded data removed]"
          },
          "metadata": {
            "needs_background": "light"
          }
        }
      ]
    },
    {
      "cell_type": "markdown",
      "source": [
        "The confusion matrix shows:\n",
        "- True Negative is 3662\n",
        "- True Positive is 3812\n",
        "- False Positives is 1137\n",
        "- False Negatives is 1145\n",
        "\n",
        "The False negative and false positive are very close to each other, which means that the model is predicting as many \"wrong\" canceled as \"wrong\" non-canceled\n",
        "\n",
        "---\n",
        "\n",
        "**Logistic regression final accuracy: 79.88%**\n"
      ],
      "metadata": {
        "id": "JC1nGw3a-wQe"
      }
    },
    {
      "cell_type": "markdown",
      "source": [
        "---\n",
        "**Decision trees Model**"
      ],
      "metadata": {
        "id": "lbTUS8-kO5SH"
      }
    },
    {
      "cell_type": "code",
      "source": [
        "#reset the X and y sets\n",
        "X = data.drop('booking_status', axis = 1)\n",
        "\n",
        "#The Goal (prediction)\n",
        "y = data['booking_status']\n",
        "\n",
        "X_train, X_test, y_train, y_test = train_test_split(X, y, test_size=0.2, random_state=4)"
      ],
      "metadata": {
        "id": "LTUwEzG_VzSj"
      },
      "execution_count": 218,
      "outputs": []
    },
    {
      "cell_type": "code",
      "source": [
        "dt = DecisionTreeClassifier(random_state=40)\n",
        "\n",
        "dt.fit(X_train, y_train)\n",
        "\n",
        "#test\n",
        "y_pred = dt.predict(X_test)\n",
        "\n",
        "\n",
        "#the accurecy\n",
        "print(\"Accuracy of the Decision Tree predictor is:\" + str(metrics.accuracy_score(y_test, y_pred)))"
      ],
      "metadata": {
        "colab": {
          "base_uri": "https://localhost:8080/"
        },
        "id": "MfVA6rBDOv5n",
        "outputId": "32dd256c-dc02-40eb-b053-9d5937dd9e17"
      },
      "execution_count": 219,
      "outputs": [
        {
          "output_type": "stream",
          "name": "stdout",
          "text": [
            "Accuracy of the Decision Tree predictor is:0.8624396967608546\n"
          ]
        }
      ]
    },
    {
      "cell_type": "markdown",
      "source": [
        "Let's again start by scaling the data."
      ],
      "metadata": {
        "id": "h1u1xFZZPXr9"
      }
    },
    {
      "cell_type": "code",
      "source": [
        "scaler = StandardScaler()\n",
        "X_scaled = scaler.fit_transform(X)\n",
        "\n",
        "#test the accuracy of the scaled data\n",
        "X_train, X_test, y_train, y_test = train_test_split(X_scaled, y, test_size=0.2, random_state=4)\n",
        "\n",
        "\n",
        "dt = DecisionTreeClassifier(random_state=40)\n",
        "\n",
        "dt.fit(X_train, y_train)\n",
        "\n",
        "#test\n",
        "y_pred = dt.predict(X_test)\n",
        "\n",
        "\n",
        "#the accurecy\n",
        "print(\"Accuracy of the Decision Tree predictor is:\" + str(metrics.accuracy_score(y_test, y_pred)))"
      ],
      "metadata": {
        "colab": {
          "base_uri": "https://localhost:8080/"
        },
        "id": "ZKbCWt3mPbNf",
        "outputId": "6f1305ed-45ed-489f-f463-136fcb30b130"
      },
      "execution_count": 220,
      "outputs": [
        {
          "output_type": "stream",
          "name": "stdout",
          "text": [
            "Accuracy of the Decision Tree predictor is:0.8621640248104755\n"
          ]
        }
      ]
    },
    {
      "cell_type": "markdown",
      "source": [
        "The diffrence is small (0.0002), the higher accuracy is from the non scaled data.\n",
        "\n",
        "Now, lets try to do feature selection on the original data"
      ],
      "metadata": {
        "id": "7Ba_bxWdPrvq"
      }
    },
    {
      "cell_type": "code",
      "source": [
        "print(\"The data set Originaly contains \" + str(X.shape[1]) + \" dimensions.\")\n",
        "\n",
        "clf = DecisionTreeClassifier(random_state=40)\n",
        "clf.fit(X, y)\n",
        "\n",
        "trans = SelectFromModel(clf, threshold='median')\n",
        "X_trans = trans.fit_transform(X, y)\n",
        "\n",
        "X_train, X_test, y_train, y_test = train_test_split(X_trans, y, test_size=0.2, random_state=4)\n",
        "\n",
        "\n",
        "print(\"now the data set contains \" + str(X_trans.shape[1]) + \" dimensions.\")"
      ],
      "metadata": {
        "colab": {
          "base_uri": "https://localhost:8080/"
        },
        "id": "nXG4GO2XQE3O",
        "outputId": "dd41d0de-a4b2-474d-ce66-b0c24115eaa8"
      },
      "execution_count": 221,
      "outputs": [
        {
          "output_type": "stream",
          "name": "stdout",
          "text": [
            "The data set Originaly contains 17 dimensions.\n",
            "now the data set contains 9 dimensions.\n"
          ]
        }
      ]
    },
    {
      "cell_type": "code",
      "source": [
        "dt = DecisionTreeClassifier(random_state=40)\n",
        "\n",
        "dt.fit(X_train, y_train)\n",
        "\n",
        "#test\n",
        "y_pred = dt.predict(X_test)\n",
        "\n",
        "\n",
        "#the accurecy\n",
        "print(\"Accuracy of the Decision Tree predictor is:\" + str(metrics.accuracy_score(y_test, y_pred)))"
      ],
      "metadata": {
        "colab": {
          "base_uri": "https://localhost:8080/"
        },
        "id": "3fZa0GJeQe6x",
        "outputId": "2367c2b6-7918-4fc3-cf1b-668a56bd0648"
      },
      "execution_count": 222,
      "outputs": [
        {
          "output_type": "stream",
          "name": "stdout",
          "text": [
            "Accuracy of the Decision Tree predictor is:0.8567884217780841\n"
          ]
        }
      ]
    },
    {
      "cell_type": "markdown",
      "source": [
        "The accuracy went down by about 0.005 after doing feature selection.\n",
        "\n",
        "Next, let's do PCA on the original data"
      ],
      "metadata": {
        "id": "1gLrTiiOQ2Eq"
      }
    },
    {
      "cell_type": "code",
      "source": [
        "pca = PCA(n_components=2, random_state=40)\n",
        "\n",
        "# Fit and Apply dimensionality reduction on X\n",
        "Z = pca.fit_transform(X)\n",
        "\n",
        "X_train, X_test, y_train, y_test = train_test_split(Z, y, test_size=0.2, random_state=4)\n",
        "\n",
        "dt = DecisionTreeClassifier(random_state=40)\n",
        "\n",
        "dt.fit(X_train, y_train)\n",
        "\n",
        "#test\n",
        "y_pred = dt.predict(X_test)\n",
        "\n",
        "\n",
        "#the accurecy\n",
        "print(\"Accuracy of the Decision Tree predictor is:\" + str(metrics.accuracy_score(y_test, y_pred)))"
      ],
      "metadata": {
        "colab": {
          "base_uri": "https://localhost:8080/"
        },
        "id": "M9qPE4anRF7W",
        "outputId": "db2e863c-20a7-4fb5-ede2-437d7aeef156"
      },
      "execution_count": 223,
      "outputs": [
        {
          "output_type": "stream",
          "name": "stdout",
          "text": [
            "Accuracy of the Decision Tree predictor is:0.7852515506547209\n"
          ]
        }
      ]
    },
    {
      "cell_type": "markdown",
      "source": [
        "The Accurecy went down even more.\n",
        "\n",
        "Next is Oversampling"
      ],
      "metadata": {
        "id": "8WOcaQFMt4Uy"
      }
    },
    {
      "cell_type": "code",
      "source": [
        "oversampler = RandomOverSampler(random_state=40)\n",
        "\n",
        "X, y = oversampler.fit_resample(X, y)\n",
        "\n",
        "X_train, X_test, y_train, y_test = train_test_split(X, y, test_size=0.2, random_state=4)"
      ],
      "metadata": {
        "id": "fhCga46ct3k4"
      },
      "execution_count": 224,
      "outputs": []
    },
    {
      "cell_type": "code",
      "source": [
        "dt = DecisionTreeClassifier(random_state=40)\n",
        "\n",
        "dt.fit(X_train, y_train)\n",
        "\n",
        "#test\n",
        "y_pred = dt.predict(X_test)\n",
        "\n",
        "\n",
        "#the accurecy\n",
        "print(\"Accuracy of the Decision Tree predictor is:\" + str(metrics.accuracy_score(y_test, y_pred)))"
      ],
      "metadata": {
        "colab": {
          "base_uri": "https://localhost:8080/"
        },
        "id": "EcYgoAXRt_Ot",
        "outputId": "3c1509aa-fc6d-44f5-b46f-7eeefa624ee5"
      },
      "execution_count": 225,
      "outputs": [
        {
          "output_type": "stream",
          "name": "stdout",
          "text": [
            "Accuracy of the Decision Tree predictor is:0.9178966789667896\n"
          ]
        }
      ]
    },
    {
      "cell_type": "code",
      "source": [
        "train_sizes, train_scores, test_scores = learning_curve(dt, X, y, cv=30, train_sizes = np.linspace(0.1, 1.0, 9),random_state = 40)\n",
        "\n",
        "train_mean = np.mean(train_scores,axis=1)\n",
        "test_mean = np.mean(test_scores,axis=1)\n",
        "\n",
        "plt.plot(train_sizes,train_mean, label='Training Accuracy')\n",
        "plt.plot(train_sizes,test_mean, label='Validation Accuracy')\n",
        "plt.title('Learning Curve - Decision tree')\n",
        "plt.xlabel('Training Data Size')\n",
        "plt.ylabel('Model accuracy')\n",
        "plt.legend(loc='lower right')\n",
        "plt.show()"
      ],
      "metadata": {
        "colab": {
          "base_uri": "https://localhost:8080/",
          "height": 295
        },
        "id": "AmtS1oGLuQRF",
        "outputId": "196976bf-56e8-487a-c41a-de56f6835364"
      },
      "execution_count": 226,
      "outputs": [
        {
          "output_type": "display_data",
          "data": {
            "text/plain": [
              "<Figure size 432x288 with 1 Axes>"
            ],
            "image/png": "[encoded data removed]"
          },
          "metadata": {
            "needs_background": "light"
          }
        }
      ]
    },
    {
      "cell_type": "markdown",
      "source": [
        "The learning curve shows that the model might be overfitting since the training accuracy stayed very close to 1. which indicates that the model is learning the noise in the data rather than ignoring them."
      ],
      "metadata": {
        "id": "Xy0OetXIMsv8"
      }
    },
    {
      "cell_type": "code",
      "source": [
        "cm = confusion_matrix(y_test, y_pred)\n",
        "\n",
        "# create a heatmap of the confusion matrix using seaborn\n",
        "sns.heatmap(cm, annot=True, cmap='Blues', fmt='g')"
      ],
      "metadata": {
        "colab": {
          "base_uri": "https://localhost:8080/",
          "height": 284
        },
        "id": "BHsohcylukNP",
        "outputId": "c41800fd-5774-4d32-e0e0-68babbcb5d6f"
      },
      "execution_count": 227,
      "outputs": [
        {
          "output_type": "execute_result",
          "data": {
            "text/plain": [
              "<AxesSubplot:>"
            ]
          },
          "metadata": {},
          "execution_count": 227
        },
        {
          "output_type": "display_data",
          "data": {
            "text/plain": [
              "<Figure size 432x288 with 2 Axes>"
            ],
            "image/png": "[encoded data removed]"
          },
          "metadata": {
            "needs_background": "light"
          }
        }
      ]
    },
    {
      "cell_type": "markdown",
      "source": [
        "\n",
        "the confusion matrix is showing:\n",
        "- True Negative is 4538\n",
        "- True Positive is 4417\n",
        "- False Positives is 261\n",
        "- False Negatives is 540\n",
        "\n",
        "this means that the model is more likely to wrongfuly predict the reservations that will be Canceled (predict them as non-canceled) rather than the ones that will not be canceled (predicting them as canceled). (because the False Positives is less than the False Negative)\n",
        "\n",
        "---\n",
        "\n",
        "\n",
        "**Decision tree Final Accuracy is 91.78%**\n",
        "\n",
        "---\n",
        "\n",
        "**Naive Bayes**"
      ],
      "metadata": {
        "id": "MebjibYnMfDX"
      }
    },
    {
      "cell_type": "code",
      "source": [
        "#reset the X and y sets\n",
        "X = data.drop('booking_status', axis = 1)\n",
        "\n",
        "#The Goal (prediction)\n",
        "y = data['booking_status']\n",
        "\n",
        "X_train, X_test, y_train, y_test = train_test_split(X, y, test_size=0.2, random_state=4)"
      ],
      "metadata": {
        "id": "eXR2fOyGvsp9"
      },
      "execution_count": 228,
      "outputs": []
    },
    {
      "cell_type": "code",
      "source": [
        "gnb = GaussianNB()\n",
        "\n",
        "gnb.fit(X_train, y_train)\n",
        "y_pred = gnb.predict(X_test)\n",
        "\n",
        "print(\"Accuracy of the Naive Bayes predictor is:\" + str(metrics.accuracy_score(y_test, y_pred)))"
      ],
      "metadata": {
        "colab": {
          "base_uri": "https://localhost:8080/"
        },
        "id": "r_L0rIf1vmlW",
        "outputId": "b0d6590e-d136-4fd1-b7c2-ad63ad2aaed4"
      },
      "execution_count": 229,
      "outputs": [
        {
          "output_type": "stream",
          "name": "stdout",
          "text": [
            "Accuracy of the Naive Bayes predictor is:0.4022053756030324\n"
          ]
        }
      ]
    },
    {
      "cell_type": "markdown",
      "source": [
        "Scale the data"
      ],
      "metadata": {
        "id": "VMtVJo1hwJjB"
      }
    },
    {
      "cell_type": "code",
      "source": [
        "scaler = StandardScaler()\n",
        "X_scaled = scaler.fit_transform(X)\n",
        "\n",
        "#test the accuracy of the scaled data\n",
        "X_train, X_test, y_train, y_test = train_test_split(X_scaled, y, test_size=0.2, random_state=4)\n",
        "\n",
        "\n",
        "gnb = GaussianNB()\n",
        "\n",
        "gnb.fit(X_train, y_train)\n",
        "\n",
        "#test\n",
        "y_pred = gnb.predict(X_test)\n",
        "\n",
        "\n",
        "#the accurecy\n",
        "print(\"Accuracy of the Decision Tree predictor is:\" + str(metrics.accuracy_score(y_test, y_pred)))"
      ],
      "metadata": {
        "colab": {
          "base_uri": "https://localhost:8080/"
        },
        "id": "8n0s9yv_wIuu",
        "outputId": "582ab693-a3ef-49ea-d3f5-b1793f635e86"
      },
      "execution_count": 230,
      "outputs": [
        {
          "output_type": "stream",
          "name": "stdout",
          "text": [
            "Accuracy of the Decision Tree predictor is:0.40206753962784286\n"
          ]
        }
      ]
    },
    {
      "cell_type": "markdown",
      "source": [
        "the accuracy decreased, as a result, i will be using the original data.\n",
        "\n",
        "Next, feature selection"
      ],
      "metadata": {
        "id": "rQ_iTli5OOeb"
      }
    },
    {
      "cell_type": "code",
      "source": [
        "print(\"The data set Originaly contains \" + str(X.shape[1]) + \" dimensions.\")\n",
        "\n",
        "clf = DecisionTreeClassifier(random_state=40)\n",
        "clf.fit(X, y)\n",
        "\n",
        "trans = SelectFromModel(clf, threshold='median')\n",
        "X_trans = trans.fit_transform(X, y)\n",
        "\n",
        "X_train, X_test, y_train, y_test = train_test_split(X_trans, y, test_size=0.2, random_state=4)\n",
        "\n",
        "\n",
        "print(\"now the data set contains \" + str(X_trans.shape[1]) + \" dimensions.\")"
      ],
      "metadata": {
        "colab": {
          "base_uri": "https://localhost:8080/"
        },
        "id": "CAIzyyHwwsbN",
        "outputId": "990a0b56-35c2-45b9-d647-e4ced4fb6af4"
      },
      "execution_count": 231,
      "outputs": [
        {
          "output_type": "stream",
          "name": "stdout",
          "text": [
            "The data set Originaly contains 17 dimensions.\n",
            "now the data set contains 9 dimensions.\n"
          ]
        }
      ]
    },
    {
      "cell_type": "code",
      "source": [
        "gnb = GaussianNB()\n",
        "\n",
        "gnb.fit(X_train, y_train)\n",
        "\n",
        "#test\n",
        "y_pred = gnb.predict(X_test)\n",
        "\n",
        "#the accurecy\n",
        "print(\"Accuracy of the Decision Tree predictor is:\" + str(metrics.accuracy_score(y_test, y_pred)))"
      ],
      "metadata": {
        "colab": {
          "base_uri": "https://localhost:8080/"
        },
        "id": "I-GXTYltwuX_",
        "outputId": "43c250b7-d7a4-4bf4-c83e-8a6dd1a33009"
      },
      "execution_count": 232,
      "outputs": [
        {
          "output_type": "stream",
          "name": "stdout",
          "text": [
            "Accuracy of the Decision Tree predictor is:0.7666436940041351\n"
          ]
        }
      ]
    },
    {
      "cell_type": "markdown",
      "source": [
        "The accuracy went up quite a lot.\n",
        "\n",
        "Now, we will try PCA to see if it will do better."
      ],
      "metadata": {
        "id": "oGZ1GXEMOXej"
      }
    },
    {
      "cell_type": "code",
      "source": [
        "pca = PCA(n_components=2, random_state=40)\n",
        "\n",
        "# Fit and Apply dimensionality reduction on X\n",
        "Z = pca.fit_transform(X)\n",
        "\n",
        "X_train, X_test, y_train, y_test = train_test_split(Z, y, test_size=0.2, random_state=4)\n",
        "\n",
        "gnb = GaussianNB()\n",
        "\n",
        "gnb.fit(X_train, y_train)\n",
        "\n",
        "#test\n",
        "y_pred = gnb.predict(X_test)\n",
        "\n",
        "\n",
        "#the accurecy\n",
        "print(\"Accuracy of the Decision Tree predictor is:\" + str(metrics.accuracy_score(y_test, y_pred)))"
      ],
      "metadata": {
        "colab": {
          "base_uri": "https://localhost:8080/"
        },
        "id": "udo8FQ_Uw4D2",
        "outputId": "4c24cc92-7065-4347-8386-163b2797142c"
      },
      "execution_count": 233,
      "outputs": [
        {
          "output_type": "stream",
          "name": "stdout",
          "text": [
            "Accuracy of the Decision Tree predictor is:0.7587870434183321\n"
          ]
        }
      ]
    },
    {
      "cell_type": "markdown",
      "source": [
        "feature Selection did better. so, i will be using that moving forward.\n",
        "\n",
        "Next, oversampling"
      ],
      "metadata": {
        "id": "T8ZqfDXnOeZE"
      }
    },
    {
      "cell_type": "code",
      "source": [
        "clf = DecisionTreeClassifier(random_state=40)\n",
        "clf.fit(X, y)\n",
        "\n",
        "trans = SelectFromModel(clf, threshold='median')\n",
        "X_trans = trans.fit_transform(X, y)\n",
        "\n",
        "oversampler = RandomOverSampler(random_state=40)\n",
        "\n",
        "X, y = oversampler.fit_resample(X_trans, y)\n",
        "\n",
        "\n",
        "X_train, X_test, y_train, y_test = train_test_split(X, y, test_size=0.2, random_state=4)"
      ],
      "metadata": {
        "id": "5SRxzBs5xCw8"
      },
      "execution_count": 234,
      "outputs": []
    },
    {
      "cell_type": "code",
      "source": [
        "gnb = GaussianNB()\n",
        "\n",
        "gnb.fit(X_train, y_train)\n",
        "\n",
        "#test\n",
        "y_pred = gnb.predict(X_test)\n",
        "\n",
        "#the accurecy\n",
        "print(\"Accuracy of the Decision Tree predictor is:\" + str(metrics.accuracy_score(y_test, y_pred)))"
      ],
      "metadata": {
        "colab": {
          "base_uri": "https://localhost:8080/"
        },
        "id": "i_0Te-gsxFo-",
        "outputId": "13107bf8-e4d0-4b43-a9cd-32610a4cd4af"
      },
      "execution_count": 235,
      "outputs": [
        {
          "output_type": "stream",
          "name": "stdout",
          "text": [
            "Accuracy of the Decision Tree predictor is:0.7414924149241492\n"
          ]
        }
      ]
    },
    {
      "cell_type": "markdown",
      "source": [
        "it did worst than feature selected alone, so i will be using feature selected data.\n",
        "\n",
        "Now, lets plot the learning curve"
      ],
      "metadata": {
        "id": "jBEjgH8NOz15"
      }
    },
    {
      "cell_type": "code",
      "source": [
        "clf = DecisionTreeClassifier(random_state=40)\n",
        "clf.fit(X, y)\n",
        "\n",
        "trans = SelectFromModel(clf, threshold='median')\n",
        "X_trans = trans.fit_transform(X, y)\n",
        "\n",
        "X_train, X_test, y_train, y_test = train_test_split(X_trans, y, test_size=0.2, random_state=4)\n",
        "\n",
        "gnb = GaussianNB()\n",
        "\n",
        "gnb.fit(X_train, y_train)\n",
        "\n",
        "#test\n",
        "y_pred = gnb.predict(X_test)"
      ],
      "metadata": {
        "id": "SZz9kEVLB1FR"
      },
      "execution_count": 236,
      "outputs": []
    },
    {
      "cell_type": "code",
      "source": [
        "train_sizes, train_scores, test_scores = learning_curve(gnb, X_trans, y, cv=30, train_sizes = np.linspace(0.1, 1.0, 9),random_state = 40)\n",
        "\n",
        "train_mean = np.mean(train_scores,axis=1)\n",
        "test_mean = np.mean(test_scores,axis=1)\n",
        "\n",
        "plt.plot(train_sizes,train_mean, label='Training Accuracy')\n",
        "plt.plot(train_sizes,test_mean, label='Validation Accuracy')\n",
        "plt.title('Learning Curve - Naive Bayes')\n",
        "plt.xlabel('Training Data Size')\n",
        "plt.ylabel('Model accuracy')\n",
        "plt.legend(loc='lower right')\n",
        "plt.show()"
      ],
      "metadata": {
        "colab": {
          "base_uri": "https://localhost:8080/",
          "height": 295
        },
        "id": "K2so5KrEBlha",
        "outputId": "f9d7860d-f50d-4391-f121-f6046985f733"
      },
      "execution_count": 237,
      "outputs": [
        {
          "output_type": "display_data",
          "data": {
            "text/plain": [
              "<Figure size 432x288 with 1 Axes>"
            ],
            "image/png": "[encoded data removed]"
          },
          "metadata": {
            "needs_background": "light"
          }
        }
      ]
    },
    {
      "cell_type": "markdown",
      "source": [
        "both the training and testing accuracy are very close, at around 0.76. which indicates that the model does seem to be underfitting since the accuracy is low."
      ],
      "metadata": {
        "id": "EJ38XdvePMIi"
      }
    },
    {
      "cell_type": "code",
      "source": [
        "cm = confusion_matrix(y_test, y_pred)\n",
        "\n",
        "# create a heatmap of the confusion matrix using seaborn\n",
        "sns.heatmap(cm, annot=True, cmap='Blues', fmt='g')"
      ],
      "metadata": {
        "colab": {
          "base_uri": "https://localhost:8080/",
          "height": 282
        },
        "id": "eumRMwO4B0ep",
        "outputId": "02498747-9558-4073-bb50-63038864eb0b"
      },
      "execution_count": 238,
      "outputs": [
        {
          "output_type": "execute_result",
          "data": {
            "text/plain": [
              "<AxesSubplot:>"
            ]
          },
          "metadata": {},
          "execution_count": 238
        },
        {
          "output_type": "display_data",
          "data": {
            "text/plain": [
              "<Figure size 432x288 with 2 Axes>"
            ],
            "image/png": "[encoded data removed]"
          },
          "metadata": {
            "needs_background": "light"
          }
        }
      ]
    },
    {
      "cell_type": "markdown",
      "source": [
        "The confusion matrix shows:\n",
        "- True Negative is 3533\n",
        "- True Positive is 3772\n",
        "- False Positives is 1266\n",
        "- False Negatives is 1185\n",
        "\n",
        "The False negative and false positive are very close to each other, which means that the model is predicting as many \"wrong\" canceled as \"wrong\" non-canceled\n",
        "\n",
        "---\n",
        "\n",
        "**Naive Bayes final accuracy: 76,66%**\n"
      ],
      "metadata": {
        "id": "N44KL6lYPtph"
      }
    },
    {
      "cell_type": "markdown",
      "source": [
        "\n",
        "\n",
        "---\n",
        "\n",
        "\n",
        "\n",
        "\n",
        "\n",
        "**Conclusion**"
      ],
      "metadata": {
        "id": "lEvJ1yKbQD56"
      }
    },
    {
      "cell_type": "markdown",
      "source": [
        "in our analysis, we tested with 4 diffrent models:\n",
        "\n",
        "\n",
        "1.   KNN \n",
        "2.   Logistic Regresion\n",
        "3.   Decision tree\n",
        "4.   Naive Bayes\n",
        "\n",
        "And the following was done in each:\n"
      ],
      "metadata": {
        "id": "EBJYAAiOahsX"
      }
    },
    {
      "cell_type": "markdown",
      "source": [
        "**KNN model:** i started by testing the model on the original data to determine the best k to choose. the accuracy kept jumping around as k was changing, but the best k was equal to 1 so it was used for the entire modle. then i tried cross validation, but it produces a similier (slightly less) results as train-test split did. i ended up choosing to continue with train-test split for all models. then i scalled the data, and tested it's accuracy. the accuracy was better than the original data. i followed by doing feature selection and PCA on the scaled data to see if the accuracy will improve. Both of them turned out to do worst than the scaled data. as a result i used the scaled data to oversample the minority class and tested again. And the accurace of the oversampled data turned out to also be better. So, i finished up by analyzing the results of the scaled oversampled data."
      ],
      "metadata": {
        "id": "nJ6j86QRbd3b"
      }
    },
    {
      "cell_type": "markdown",
      "source": [
        "\n",
        "**Logistic Regresion model:** i started by testing the model on the original data. after that i followed by testing it with diffrent maximum number of iterations and then scalling the data. in both cases, the accuracy improved, but the scalling improved it more. So, i followed up by doing feature selection and PCA on the scaled data to see which will preform better. Both of them, turned out to do worst than the scaled data. as a result i used the scaled data to oversample the minority class and tested again. And the accurace of the oversampled data turned out to also be worst. So, i finished up by analyzing the results of the scaled data.\n",
        "\n",
        "\n",
        "\n",
        "---"
      ],
      "metadata": {
        "id": "xfBbNF96baWF"
      }
    },
    {
      "cell_type": "markdown",
      "source": [
        "**Decision tree model:** i started by testing the model on the original data. after that i followed by scalling the data and testing again. However, the accuracy did not improve. So, i followed up by doing feature selection and PCA on the original data to see which will preform better. Both of them, turned out to do worst than the original data. as a result i used the original data to oversample the minority class and tested again. And the accurace of the oversampled data turned out to be better. So, i finished up by analyzing the results of the oversampled data.\n",
        "\n",
        "---"
      ],
      "metadata": {
        "id": "iUO3LTD8bbYc"
      }
    },
    {
      "cell_type": "markdown",
      "source": [
        "**Naive Bayes model:** i started by testing the model on the original data. Then followed by scalling the data and testing again. However, the accuracy did not improve. So, i followed up by doing feature selection and PCA on the original data to see which will preform better. the feature selection data turned out to be better. as a result i used the feature slected data to oversample the minority class and tested again. however, the accuracy went. so i took the accuracy of the feature selected data to be the best accuracy, and analyzed the results."
      ],
      "metadata": {
        "id": "ArLr8Qi8bY4e"
      }
    },
    {
      "cell_type": "markdown",
      "source": [
        "**Results:** out of all 4, the Decision tree model preformed the best with a 91.78% accuracy. the KNN model had a close accurace of 90.93%, while both Naive Bayes and Logistic Regresion models had below 80% accuracy.\n",
        "\n",
        "\n",
        "the learning curve for both KNN and Decision tree models indicate that there might be over-fitting happening because the training accuracy curve stays very close to 1. while the Naive Bayes and logistic regresion models on the other hand, appear to be underfitting because the accuracy is low.\n",
        "\n",
        "the confusion metrix show that both NN and Decision tree models are producing the correct result most of the time. however, they both miscotigorize the\n",
        "non-canceled reservations more than the canceled. which is worst than the other way around because if these models were used, there would be some people showing for their reservation but there would not be any rooms avaliable for them. while both the Naive Bayes and logistic regresion models appear to miscotogrize a lot of reservations, but the miscotogroziation appeears to be equally distributed between both types.\n",
        "\n",
        "**The Best Model Is The  Decision tree Model**"
      ],
      "metadata": {
        "id": "4uXwUpraiwSH"
      }
    },
    {
      "cell_type": "markdown",
      "source": [
        "Prompts used in GPT:\n",
        "\n",
        "- i have 36275 observations, with around 11.5 thousand to 12 thousand have the booking_status as canceled, while the remaining have it as not canceled. would that size diffrence cause a problem while training the data\n",
        "\n",
        "- how can i oversample in python\n",
        "\n",
        "- does it make a diffrence if i do PCA and feature selection before or after oversampling\n",
        "\n",
        "\n"
      ],
      "metadata": {
        "id": "ppmemp-TJ9Cf"
      }
    }
  ]
}