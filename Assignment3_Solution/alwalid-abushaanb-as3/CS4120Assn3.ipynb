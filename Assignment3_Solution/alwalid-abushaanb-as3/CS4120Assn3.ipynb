{
  "nbformat": 4,
  "nbformat_minor": 0,
  "metadata": {
    "colab": {
      "provenance": []
    },
    "kernelspec": {
      "name": "python3",
      "display_name": "Python 3"
    },
    "language_info": {
      "name": "python"
    }
  },
  "cells": [
    {
      "cell_type": "code",
      "execution_count": 21,
      "metadata": {
        "id": "wgKfYbFbdUwV"
      },
      "outputs": [],
      "source": [
        "from sklearn.model_selection import train_test_split\n",
        "import tensorflow as tf\n",
        "import numpy as np\n",
        "import pandas as pd\n",
        "from tensorflow.keras import layers\n",
        "from sklearn.preprocessing import LabelEncoder, MinMaxScaler\n",
        "from imblearn.over_sampling import RandomOverSampler\n",
        "from sklearn.tree import DecisionTreeClassifier\n",
        "from sklearn.feature_selection import SelectFromModel\n",
        "\n",
        "data = pd.read_csv(\"/content/Hotel Reservations.csv\")\n",
        "\n",
        "label_segment = LabelEncoder()\n",
        "label_status = LabelEncoder()\n",
        "label_meal_plan = LabelEncoder()\n",
        "label_reserved = LabelEncoder()\n",
        "\n",
        "data['booking_status'] = label_status.fit_transform(data['booking_status'])\n",
        "data['type_of_meal_plan'] = label_meal_plan.fit_transform(data['type_of_meal_plan'])\n",
        "data['market_segment_type'] = label_segment.fit_transform(data['market_segment_type'])\n",
        "data['room_type_reserved'] = label_reserved.fit_transform(data['room_type_reserved'])\n",
        "\n",
        "name_mapping = dict(zip(label_status.classes_, label_status.transform(label_status.classes_)))\n",
        "\n",
        "#remove the booking ID (not needed)\n",
        "data = data.drop('Booking_ID', axis = 1)\n",
        "\n",
        "#remove the booking status (the variable we are trying to predict)\n",
        "X = data.drop('booking_status', axis = 1)\n",
        "scaler = MinMaxScaler()\n",
        "X = scaler.fit_transform(X)\n",
        "\n",
        "#The Goal (prediction)\n",
        "y = data['booking_status']\n",
        "\n",
        "#feature selection\n",
        "clf = DecisionTreeClassifier(random_state = 40)\n",
        "clf.fit(X, y)\n",
        "\n",
        "trans = SelectFromModel(clf, threshold='median')\n",
        "X = trans.fit_transform(X, y)\n",
        "\n",
        "#oversampling\n",
        "oversampler = RandomOverSampler(random_state=40)\n",
        "X, y = oversampler.fit_resample(X, y)\n",
        "\n",
        "#split the data into test and train sets\n",
        "X_train, X_test, y_train, y_test = train_test_split(X, y, test_size=0.2, random_state=40)\n",
        "\n",
        "tf.random.set_seed(40)"
      ]
    },
    {
      "cell_type": "code",
      "source": [
        "#build a 3 layers model\n",
        "model = tf.keras.models.Sequential()\n",
        "\n",
        "model.add(tf.keras.layers.Dense(64, activation = tf.nn.relu))\n",
        "model.add(tf.keras.layers.Dense(128, activation = tf.nn.relu))\n",
        "model.add(tf.keras.layers.Dense(1, activation = tf.nn.sigmoid))\n",
        "\n",
        "model.compile(optimizer='adam',\n",
        "              loss='binary_crossentropy',\n",
        "              metrics=['accuracy'])\n",
        "\n",
        "#train the model\n",
        "model.fit(X_train, y_train, epochs=10)\n",
        "\n",
        "# Evaluate the model\n",
        "test_loss, test_acc = model.evaluate(X_test, y_test, verbose=2)\n",
        "print('\\nTest accuracy:', test_acc)\n",
        "print('\\nTest loss:', test_loss)\n"
      ],
      "metadata": {
        "id": "fy_h7rNEeRDp",
        "colab": {
          "base_uri": "https://localhost:8080/"
        },
        "outputId": "1572936c-3903-4d25-d310-c10b3c3b1f55"
      },
      "execution_count": 22,
      "outputs": [
        {
          "output_type": "stream",
          "name": "stdout",
          "text": [
            "Epoch 1/10\n",
            "1220/1220 [==============================] - 3s 2ms/step - loss: 0.4963 - accuracy: 0.7616\n",
            "Epoch 2/10\n",
            "1220/1220 [==============================] - 2s 2ms/step - loss: 0.4549 - accuracy: 0.7863\n",
            "Epoch 3/10\n",
            "1220/1220 [==============================] - 2s 2ms/step - loss: 0.4411 - accuracy: 0.7915\n",
            "Epoch 4/10\n",
            "1220/1220 [==============================] - 3s 2ms/step - loss: 0.4326 - accuracy: 0.7962\n",
            "Epoch 5/10\n",
            "1220/1220 [==============================] - 3s 2ms/step - loss: 0.4237 - accuracy: 0.8006\n",
            "Epoch 6/10\n",
            "1220/1220 [==============================] - 2s 2ms/step - loss: 0.4182 - accuracy: 0.8032\n",
            "Epoch 7/10\n",
            "1220/1220 [==============================] - 2s 2ms/step - loss: 0.4124 - accuracy: 0.8056\n",
            "Epoch 8/10\n",
            "1220/1220 [==============================] - 2s 2ms/step - loss: 0.4083 - accuracy: 0.8085\n",
            "Epoch 9/10\n",
            "1220/1220 [==============================] - 3s 2ms/step - loss: 0.4035 - accuracy: 0.8116\n",
            "Epoch 10/10\n",
            "1220/1220 [==============================] - 3s 2ms/step - loss: 0.3991 - accuracy: 0.8143\n",
            "305/305 - 0s - loss: 0.3977 - accuracy: 0.8163 - 480ms/epoch - 2ms/step\n",
            "\n",
            "Test accuracy: 0.816318154335022\n",
            "\n",
            "Test loss: 0.39766207337379456\n"
          ]
        }
      ]
    },
    {
      "cell_type": "code",
      "source": [
        "#build a 6 layers model\n",
        "model = tf.keras.models.Sequential()\n",
        "\n",
        "model.add(tf.keras.layers.Dense(64, activation = tf.nn.relu))\n",
        "model.add(tf.keras.layers.Dense(128, activation = tf.nn.relu))\n",
        "model.add(tf.keras.layers.Dense(256, activation = tf.nn.relu))\n",
        "model.add(tf.keras.layers.Dense(128, activation = tf.nn.relu))\n",
        "model.add(tf.keras.layers.Dense(64, activation = tf.nn.relu))\n",
        "model.add(tf.keras.layers.Dense(1, activation = tf.nn.sigmoid))\n",
        "\n",
        "model.compile(optimizer='adam',\n",
        "              loss='binary_crossentropy',\n",
        "              metrics=['accuracy'])\n",
        "\n",
        "#train the model\n",
        "model.fit(X_train, y_train, epochs=10)\n",
        "\n",
        "# Evaluate the model\n",
        "test_loss, test_acc = model.evaluate(X_test, y_test, verbose=2)\n",
        "print('\\nTest accuracy:', test_acc)\n",
        "print('\\nTest loss:', test_loss)\n"
      ],
      "metadata": {
        "colab": {
          "base_uri": "https://localhost:8080/"
        },
        "id": "MSflducUeVz3",
        "outputId": "02c882ab-2151-44a1-edca-56c4d8a4e0d7"
      },
      "execution_count": 23,
      "outputs": [
        {
          "output_type": "stream",
          "name": "stdout",
          "text": [
            "Epoch 1/10\n",
            "1220/1220 [==============================] - 5s 3ms/step - loss: 0.4811 - accuracy: 0.7654\n",
            "Epoch 2/10\n",
            "1220/1220 [==============================] - 4s 3ms/step - loss: 0.4316 - accuracy: 0.7957\n",
            "Epoch 3/10\n",
            "1220/1220 [==============================] - 4s 3ms/step - loss: 0.4044 - accuracy: 0.8116\n",
            "Epoch 4/10\n",
            "1220/1220 [==============================] - 3s 3ms/step - loss: 0.3873 - accuracy: 0.8202\n",
            "Epoch 5/10\n",
            "1220/1220 [==============================] - 3s 3ms/step - loss: 0.3730 - accuracy: 0.8269\n",
            "Epoch 6/10\n",
            "1220/1220 [==============================] - 4s 3ms/step - loss: 0.3626 - accuracy: 0.8328\n",
            "Epoch 7/10\n",
            "1220/1220 [==============================] - 3s 3ms/step - loss: 0.3525 - accuracy: 0.8360\n",
            "Epoch 8/10\n",
            "1220/1220 [==============================] - 3s 3ms/step - loss: 0.3475 - accuracy: 0.8381\n",
            "Epoch 9/10\n",
            "1220/1220 [==============================] - 4s 3ms/step - loss: 0.3394 - accuracy: 0.8411\n",
            "Epoch 10/10\n",
            "1220/1220 [==============================] - 4s 3ms/step - loss: 0.3344 - accuracy: 0.8440\n",
            "305/305 - 1s - loss: 0.3408 - accuracy: 0.8368 - 525ms/epoch - 2ms/step\n",
            "\n",
            "Test accuracy: 0.8368183970451355\n",
            "\n",
            "Test loss: 0.34081435203552246\n"
          ]
        }
      ]
    },
    {
      "cell_type": "code",
      "source": [
        "#build a 11 layersmodel, 5 of them are dropout layer\n",
        "model = tf.keras.models.Sequential()\n",
        "\n",
        "model.add(tf.keras.layers.Dense(64, activation = tf.nn.relu))\n",
        "model.add(tf.keras.layers.Dropout(0.2))\n",
        "model.add(tf.keras.layers.Dense(128, activation = tf.nn.relu))\n",
        "model.add(tf.keras.layers.Dropout(0.2))\n",
        "model.add(tf.keras.layers.Dense(256, activation = tf.nn.relu))\n",
        "model.add(tf.keras.layers.Dropout(0.2))\n",
        "model.add(tf.keras.layers.Dense(128, activation = tf.nn.relu))\n",
        "model.add(tf.keras.layers.Dropout(0.2))\n",
        "model.add(tf.keras.layers.Dense(64, activation = tf.nn.relu))\n",
        "model.add(tf.keras.layers.Dropout(0.2))\n",
        "model.add(tf.keras.layers.Dense(1, activation = tf.nn.sigmoid))\n",
        "model.compile(optimizer='adam',\n",
        "              loss='binary_crossentropy',\n",
        "              metrics=['accuracy'])\n",
        "\n",
        "#train the model\n",
        "model.fit(X_train, y_train, epochs=10)\n",
        "\n",
        "# Evaluate the model\n",
        "test_loss, test_acc = model.evaluate(X_test, y_test, verbose=2)\n",
        "print('\\nTest accuracy:', test_acc)\n",
        "print('\\nTest loss:', test_loss)\n"
      ],
      "metadata": {
        "colab": {
          "base_uri": "https://localhost:8080/"
        },
        "id": "FRQIwmkiamhE",
        "outputId": "80ff32a4-65ae-4a6e-b2c9-f66101651f54"
      },
      "execution_count": 24,
      "outputs": [
        {
          "output_type": "stream",
          "name": "stdout",
          "text": [
            "Epoch 1/10\n",
            "1220/1220 [==============================] - 6s 4ms/step - loss: 0.5221 - accuracy: 0.7412\n",
            "Epoch 2/10\n",
            "1220/1220 [==============================] - 4s 3ms/step - loss: 0.4730 - accuracy: 0.7773\n",
            "Epoch 3/10\n",
            "1220/1220 [==============================] - 4s 3ms/step - loss: 0.4582 - accuracy: 0.7847\n",
            "Epoch 4/10\n",
            "1220/1220 [==============================] - 5s 4ms/step - loss: 0.4458 - accuracy: 0.7911\n",
            "Epoch 5/10\n",
            "1220/1220 [==============================] - 4s 3ms/step - loss: 0.4373 - accuracy: 0.7985\n",
            "Epoch 6/10\n",
            "1220/1220 [==============================] - 4s 4ms/step - loss: 0.4280 - accuracy: 0.8011\n",
            "Epoch 7/10\n",
            "1220/1220 [==============================] - 4s 4ms/step - loss: 0.4224 - accuracy: 0.8060\n",
            "Epoch 8/10\n",
            "1220/1220 [==============================] - 4s 3ms/step - loss: 0.4168 - accuracy: 0.8058\n",
            "Epoch 9/10\n",
            "1220/1220 [==============================] - 5s 4ms/step - loss: 0.4140 - accuracy: 0.8096\n",
            "Epoch 10/10\n",
            "1220/1220 [==============================] - 4s 4ms/step - loss: 0.4094 - accuracy: 0.8110\n",
            "305/305 - 1s - loss: 0.3831 - accuracy: 0.8253 - 513ms/epoch - 2ms/step\n",
            "\n",
            "Test accuracy: 0.8253382444381714\n",
            "\n",
            "Test loss: 0.3830650746822357\n"
          ]
        }
      ]
    },
    {
      "cell_type": "markdown",
      "source": [
        "The model with 6 Dense Layers (second model) preformed the best out of the three, with an 83.91% accuracy.\n",
        "\n",
        "Next i will change the number of nurons in the layers to try and improve the resaults."
      ],
      "metadata": {
        "id": "PKiq33OkkqUx"
      }
    },
    {
      "cell_type": "code",
      "source": [
        "#build a 6 layers model\n",
        "model = tf.keras.models.Sequential()\n",
        "\n",
        "model.add(tf.keras.layers.Dense(64, activation = tf.nn.relu))\n",
        "model.add(tf.keras.layers.Dense(64, activation = tf.nn.relu))\n",
        "model.add(tf.keras.layers.Dense(64, activation = tf.nn.relu))\n",
        "model.add(tf.keras.layers.Dense(64, activation = tf.nn.relu))\n",
        "model.add(tf.keras.layers.Dense(64, activation = tf.nn.relu))\n",
        "model.add(tf.keras.layers.Dense(1, activation = tf.nn.sigmoid))\n",
        "\n",
        "model.compile(optimizer='adam',\n",
        "              loss='binary_crossentropy',\n",
        "              metrics=['accuracy'])\n",
        "\n",
        "#train the model\n",
        "model.fit(X_train, y_train, epochs=10)\n",
        "\n",
        "# Evaluate the model\n",
        "test_loss, test_acc = model.evaluate(X_test, y_test, verbose=2)\n",
        "print('\\nTest accuracy:', test_acc)\n",
        "print('\\nTest loss:', test_loss)\n"
      ],
      "metadata": {
        "colab": {
          "base_uri": "https://localhost:8080/"
        },
        "id": "m9zzGcZNljg3",
        "outputId": "9928f4dc-d601-4395-f33b-db81a5997c7d"
      },
      "execution_count": 25,
      "outputs": [
        {
          "output_type": "stream",
          "name": "stdout",
          "text": [
            "Epoch 1/10\n",
            "1220/1220 [==============================] - 4s 2ms/step - loss: 0.4850 - accuracy: 0.7637\n",
            "Epoch 2/10\n",
            "1220/1220 [==============================] - 3s 2ms/step - loss: 0.4399 - accuracy: 0.7914\n",
            "Epoch 3/10\n",
            "1220/1220 [==============================] - 3s 2ms/step - loss: 0.4158 - accuracy: 0.8066\n",
            "Epoch 4/10\n",
            "1220/1220 [==============================] - 3s 2ms/step - loss: 0.4015 - accuracy: 0.8126\n",
            "Epoch 5/10\n",
            "1220/1220 [==============================] - 3s 3ms/step - loss: 0.3867 - accuracy: 0.8205\n",
            "Epoch 6/10\n",
            "1220/1220 [==============================] - 3s 2ms/step - loss: 0.3761 - accuracy: 0.8239\n",
            "Epoch 7/10\n",
            "1220/1220 [==============================] - 3s 2ms/step - loss: 0.3665 - accuracy: 0.8303\n",
            "Epoch 8/10\n",
            "1220/1220 [==============================] - 3s 2ms/step - loss: 0.3596 - accuracy: 0.8334\n",
            "Epoch 9/10\n",
            "1220/1220 [==============================] - 3s 3ms/step - loss: 0.3549 - accuracy: 0.8360\n",
            "Epoch 10/10\n",
            "1220/1220 [==============================] - 3s 2ms/step - loss: 0.3494 - accuracy: 0.8371\n",
            "305/305 - 1s - loss: 0.3578 - accuracy: 0.8313 - 523ms/epoch - 2ms/step\n",
            "\n",
            "Test accuracy: 0.8312833309173584\n",
            "\n",
            "Test loss: 0.3577735722064972\n"
          ]
        }
      ]
    },
    {
      "cell_type": "code",
      "source": [
        "#build a 6 layers model\n",
        "model = tf.keras.models.Sequential()\n",
        "\n",
        "model.add(tf.keras.layers.Dense(128, activation = tf.nn.relu))\n",
        "model.add(tf.keras.layers.Dense(128, activation = tf.nn.relu))\n",
        "model.add(tf.keras.layers.Dense(128, activation = tf.nn.relu))\n",
        "model.add(tf.keras.layers.Dense(128, activation = tf.nn.relu))\n",
        "model.add(tf.keras.layers.Dense(128, activation = tf.nn.relu))\n",
        "model.add(tf.keras.layers.Dense(1, activation = tf.nn.sigmoid))\n",
        "\n",
        "model.compile(optimizer='adam',\n",
        "              loss='binary_crossentropy',\n",
        "              metrics=['accuracy'])\n",
        "\n",
        "#train the model\n",
        "model.fit(X_train, y_train, epochs=10)\n",
        "\n",
        "# Evaluate the model\n",
        "test_loss, test_acc = model.evaluate(X_test, y_test, verbose=2)\n",
        "print('\\nTest accuracy:', test_acc)\n",
        "print('\\nTest loss:', test_loss)\n"
      ],
      "metadata": {
        "colab": {
          "base_uri": "https://localhost:8080/"
        },
        "id": "u8OhJi8Ck3Rt",
        "outputId": "524b92aa-c41b-4dba-b298-61e42f813b71"
      },
      "execution_count": 26,
      "outputs": [
        {
          "output_type": "stream",
          "name": "stdout",
          "text": [
            "Epoch 1/10\n",
            "1220/1220 [==============================] - 5s 3ms/step - loss: 0.4813 - accuracy: 0.7650\n",
            "Epoch 2/10\n",
            "1220/1220 [==============================] - 4s 3ms/step - loss: 0.4355 - accuracy: 0.7940\n",
            "Epoch 3/10\n",
            "1220/1220 [==============================] - 3s 3ms/step - loss: 0.4112 - accuracy: 0.8080\n",
            "Epoch 4/10\n",
            "1220/1220 [==============================] - 3s 3ms/step - loss: 0.3965 - accuracy: 0.8166\n",
            "Epoch 5/10\n",
            "1220/1220 [==============================] - 4s 3ms/step - loss: 0.3804 - accuracy: 0.8237\n",
            "Epoch 6/10\n",
            "1220/1220 [==============================] - 3s 3ms/step - loss: 0.3714 - accuracy: 0.8264\n",
            "Epoch 7/10\n",
            "1220/1220 [==============================] - 3s 3ms/step - loss: 0.3601 - accuracy: 0.8327\n",
            "Epoch 8/10\n",
            "1220/1220 [==============================] - 3s 3ms/step - loss: 0.3529 - accuracy: 0.8360\n",
            "Epoch 9/10\n",
            "1220/1220 [==============================] - 4s 3ms/step - loss: 0.3459 - accuracy: 0.8373\n",
            "Epoch 10/10\n",
            "1220/1220 [==============================] - 3s 3ms/step - loss: 0.3403 - accuracy: 0.8393\n",
            "305/305 - 1s - loss: 0.3472 - accuracy: 0.8390 - 568ms/epoch - 2ms/step\n",
            "\n",
            "Test accuracy: 0.8389708995819092\n",
            "\n",
            "Test loss: 0.3472357988357544\n"
          ]
        }
      ]
    },
    {
      "cell_type": "code",
      "source": [
        "#build a 6 layers model\n",
        "model = tf.keras.models.Sequential()\n",
        "\n",
        "model.add(tf.keras.layers.Dense(64, activation = tf.nn.relu))\n",
        "model.add(tf.keras.layers.Dense(256, activation = tf.nn.relu))\n",
        "model.add(tf.keras.layers.Dense(256, activation = tf.nn.relu))\n",
        "model.add(tf.keras.layers.Dense(256, activation = tf.nn.relu))\n",
        "model.add(tf.keras.layers.Dense(64, activation = tf.nn.relu))\n",
        "model.add(tf.keras.layers.Dense(1, activation = tf.nn.sigmoid))\n",
        "\n",
        "model.compile(optimizer='adam',\n",
        "              loss='binary_crossentropy',\n",
        "              metrics=['accuracy'])\n",
        "\n",
        "#train the model\n",
        "model.fit(X_train, y_train, epochs=10)\n",
        "\n",
        "# Evaluate the model\n",
        "test_loss, test_acc = model.evaluate(X_test, y_test, verbose=2)\n",
        "print('\\nTest accuracy:', test_acc)\n",
        "print('\\nTest loss:', test_loss)\n"
      ],
      "metadata": {
        "colab": {
          "base_uri": "https://localhost:8080/"
        },
        "id": "mxCXhyuXmd2c",
        "outputId": "c1842ca6-26b5-4b12-b523-f9205ec31f6d"
      },
      "execution_count": 27,
      "outputs": [
        {
          "output_type": "stream",
          "name": "stdout",
          "text": [
            "Epoch 1/10\n",
            "1220/1220 [==============================] - 8s 6ms/step - loss: 0.4791 - accuracy: 0.7679\n",
            "Epoch 2/10\n",
            "1220/1220 [==============================] - 6s 5ms/step - loss: 0.4317 - accuracy: 0.7960\n",
            "Epoch 3/10\n",
            "1220/1220 [==============================] - 7s 5ms/step - loss: 0.4064 - accuracy: 0.8120\n",
            "Epoch 4/10\n",
            "1220/1220 [==============================] - 6s 5ms/step - loss: 0.3865 - accuracy: 0.8213\n",
            "Epoch 5/10\n",
            "1220/1220 [==============================] - 7s 5ms/step - loss: 0.3740 - accuracy: 0.8288\n",
            "Epoch 6/10\n",
            "1220/1220 [==============================] - 6s 5ms/step - loss: 0.3628 - accuracy: 0.8300\n",
            "Epoch 7/10\n",
            "1220/1220 [==============================] - 7s 5ms/step - loss: 0.3548 - accuracy: 0.8354\n",
            "Epoch 8/10\n",
            "1220/1220 [==============================] - 6s 5ms/step - loss: 0.3465 - accuracy: 0.8376\n",
            "Epoch 9/10\n",
            "1220/1220 [==============================] - 7s 5ms/step - loss: 0.3411 - accuracy: 0.8401\n",
            "Epoch 10/10\n",
            "1220/1220 [==============================] - 6s 5ms/step - loss: 0.3348 - accuracy: 0.8427\n",
            "305/305 - 1s - loss: 0.3473 - accuracy: 0.8352 - 630ms/epoch - 2ms/step\n",
            "\n",
            "Test accuracy: 0.8351783752441406\n",
            "\n",
            "Test loss: 0.34727615118026733\n"
          ]
        }
      ]
    },
    {
      "cell_type": "code",
      "source": [
        "#build a 6 layers model\n",
        "model = tf.keras.models.Sequential()\n",
        "\n",
        "model.add(tf.keras.layers.Dense(256, activation = tf.nn.relu))\n",
        "model.add(tf.keras.layers.Dense(256, activation = tf.nn.relu))\n",
        "model.add(tf.keras.layers.Dense(256, activation = tf.nn.relu))\n",
        "model.add(tf.keras.layers.Dense(256, activation = tf.nn.relu))\n",
        "model.add(tf.keras.layers.Dense(256, activation = tf.nn.relu))\n",
        "model.add(tf.keras.layers.Dense(1, activation = tf.nn.sigmoid))\n",
        "\n",
        "model.compile(optimizer='adam',\n",
        "              loss='binary_crossentropy',\n",
        "              metrics=['accuracy'])\n",
        "\n",
        "#train the model\n",
        "model.fit(X_train, y_train, epochs=10)\n",
        "\n",
        "# Evaluate the model\n",
        "test_loss, test_acc = model.evaluate(X_test, y_test, verbose=2)\n",
        "print('\\nTest accuracy:', test_acc)\n",
        "print('\\nTest loss:', test_loss)\n"
      ],
      "metadata": {
        "colab": {
          "base_uri": "https://localhost:8080/"
        },
        "id": "PLhPpj-GlhfO",
        "outputId": "d14e6567-b076-4612-c556-dc7269695330"
      },
      "execution_count": 20,
      "outputs": [
        {
          "output_type": "stream",
          "name": "stdout",
          "text": [
            "Epoch 1/10\n",
            "1220/1220 [==============================] - 10s 7ms/step - loss: 0.4796 - accuracy: 0.7686\n",
            "Epoch 2/10\n",
            "1220/1220 [==============================] - 9s 8ms/step - loss: 0.4286 - accuracy: 0.7982\n",
            "Epoch 3/10\n",
            "1220/1220 [==============================] - 8s 6ms/step - loss: 0.4054 - accuracy: 0.8117\n",
            "Epoch 4/10\n",
            "1220/1220 [==============================] - 9s 7ms/step - loss: 0.3876 - accuracy: 0.8185\n",
            "Epoch 5/10\n",
            "1220/1220 [==============================] - 9s 7ms/step - loss: 0.3779 - accuracy: 0.8239\n",
            "Epoch 6/10\n",
            "1220/1220 [==============================] - 8s 7ms/step - loss: 0.3664 - accuracy: 0.8280\n",
            "Epoch 7/10\n",
            "1220/1220 [==============================] - 9s 7ms/step - loss: 0.3586 - accuracy: 0.8337\n",
            "Epoch 8/10\n",
            "1220/1220 [==============================] - 8s 7ms/step - loss: 0.3489 - accuracy: 0.8373\n",
            "Epoch 9/10\n",
            "1220/1220 [==============================] - 9s 7ms/step - loss: 0.3421 - accuracy: 0.8400\n",
            "Epoch 10/10\n",
            "1220/1220 [==============================] - 9s 7ms/step - loss: 0.3358 - accuracy: 0.8451\n",
            "305/305 - 1s - loss: 0.3445 - accuracy: 0.8421 - 968ms/epoch - 3ms/step\n",
            "\n",
            "Test accuracy: 0.8421484231948853\n",
            "\n",
            "Test loss: 0.34452465176582336\n"
          ]
        }
      ]
    },
    {
      "cell_type": "markdown",
      "source": [
        "The best resault was from the model that all it's layers contain 256 neurons\n",
        "\n",
        "let's get it's confusion matrix and learning curve"
      ],
      "metadata": {
        "id": "7HjCb-4KNBZq"
      }
    },
    {
      "cell_type": "code",
      "source": [
        "from sklearn.metrics import confusion_matrix\n",
        "import seaborn as sns\n",
        "\n",
        "# Predict the classes of the test data\n",
        "y_pred = model.predict(X_test)\n",
        "y_pred_classes = (y_pred > 0.5).astype(int)\n",
        "\n",
        "# Compute the confusion matrix\n",
        "cm = confusion_matrix(y_test, y_pred_classes)\n",
        "sns.heatmap(cm, annot=True, cmap='Blues', fmt='g')"
      ],
      "metadata": {
        "colab": {
          "base_uri": "https://localhost:8080/",
          "height": 465
        },
        "id": "NhVllkPJPeLz",
        "outputId": "234e0915-747f-4b81-f96d-02ebf529815d"
      },
      "execution_count": 28,
      "outputs": [
        {
          "output_type": "stream",
          "name": "stdout",
          "text": [
            "305/305 [==============================] - 1s 2ms/step\n"
          ]
        },
        {
          "output_type": "execute_result",
          "data": {
            "text/plain": [
              "<Axes: >"
            ]
          },
          "metadata": {},
          "execution_count": 28
        },
        {
          "output_type": "display_data",
          "data": {
            "text/plain": [
              "<Figure size 640x480 with 2 Axes>"
            ],
            "image/png": "[encoded data removed]"
          },
          "metadata": {}
        }
      ]
    },
    {
      "cell_type": "markdown",
      "source": [
        "the confusion matrix is showing:\n",
        "- True Negative is 4033\n",
        "- True Positive is 4115\n",
        "- False Positives is 900\n",
        "- False Negatives is 708"
      ],
      "metadata": {
        "id": "R2QLe-NlQsp1"
      }
    },
    {
      "cell_type": "code",
      "source": [
        "history = model.fit(X_train, y_train, epochs=10, validation_data=(X_test, y_test))\n",
        "\n",
        "import matplotlib.pyplot as plt\n",
        "plt.plot(history.history['accuracy'])\n",
        "plt.plot(history.history['val_accuracy'])\n",
        "plt.title('Model accuracy')\n",
        "plt.ylabel('Accuracy')\n",
        "plt.xlabel('Epoch')\n",
        "plt.legend(['Train', 'Val'], loc='upper left')\n",
        "plt.show()\n",
        "\n",
        "plt.plot(history.history['loss'])\n",
        "plt.plot(history.history['val_loss'])\n",
        "plt.title('Model loss')\n",
        "plt.ylabel('Loss')\n",
        "plt.xlabel('Epoch')\n",
        "plt.legend(['Train', 'Val'], loc='upper left')\n",
        "plt.show()"
      ],
      "metadata": {
        "colab": {
          "base_uri": "https://localhost:8080/",
          "height": 1000
        },
        "id": "WV_mXcRqPvUJ",
        "outputId": "6f7d49b2-c3ba-426a-8ac1-d97bd25e46b8"
      },
      "execution_count": 29,
      "outputs": [
        {
          "output_type": "stream",
          "name": "stdout",
          "text": [
            "Epoch 1/10\n",
            "1220/1220 [==============================] - 7s 6ms/step - loss: 0.3297 - accuracy: 0.8433 - val_loss: 0.3578 - val_accuracy: 0.8337\n",
            "Epoch 2/10\n",
            "1220/1220 [==============================] - 7s 6ms/step - loss: 0.3233 - accuracy: 0.8483 - val_loss: 0.3364 - val_accuracy: 0.8435\n",
            "Epoch 3/10\n",
            "1220/1220 [==============================] - 6s 5ms/step - loss: 0.3183 - accuracy: 0.8492 - val_loss: 0.3351 - val_accuracy: 0.8398\n",
            "Epoch 4/10\n",
            "1220/1220 [==============================] - 7s 6ms/step - loss: 0.3143 - accuracy: 0.8528 - val_loss: 0.3252 - val_accuracy: 0.8443\n",
            "Epoch 5/10\n",
            "1220/1220 [==============================] - 6s 5ms/step - loss: 0.3096 - accuracy: 0.8560 - val_loss: 0.3485 - val_accuracy: 0.8360\n",
            "Epoch 6/10\n",
            "1220/1220 [==============================] - 7s 6ms/step - loss: 0.3044 - accuracy: 0.8556 - val_loss: 0.3144 - val_accuracy: 0.8573\n",
            "Epoch 7/10\n",
            "1220/1220 [==============================] - 6s 5ms/step - loss: 0.3006 - accuracy: 0.8600 - val_loss: 0.3250 - val_accuracy: 0.8481\n",
            "Epoch 8/10\n",
            "1220/1220 [==============================] - 7s 6ms/step - loss: 0.2959 - accuracy: 0.8610 - val_loss: 0.3268 - val_accuracy: 0.8452\n",
            "Epoch 9/10\n",
            "1220/1220 [==============================] - 8s 6ms/step - loss: 0.2946 - accuracy: 0.8619 - val_loss: 0.3197 - val_accuracy: 0.8462\n",
            "Epoch 10/10\n",
            "1220/1220 [==============================] - 6s 5ms/step - loss: 0.2863 - accuracy: 0.8676 - val_loss: 0.3217 - val_accuracy: 0.8529\n"
          ]
        },
        {
          "output_type": "display_data",
          "data": {
            "text/plain": [
              "<Figure size 640x480 with 1 Axes>"
            ],
            "image/png": "[encoded data removed]"
          },
          "metadata": {}
        },
        {
          "output_type": "display_data",
          "data": {
            "text/plain": [
              "<Figure size 640x480 with 1 Axes>"
            ],
            "image/png": "[encoded data removed]"
          },
          "metadata": {}
        }
      ]
    },
    {
      "cell_type": "markdown",
      "source": [
        "the learning curve shows that the model is learning the new data and generalizing well."
      ],
      "metadata": {
        "id": "17a6gRUdRsgg"
      }
    },
    {
      "cell_type": "markdown",
      "source": [
        "Comparison and conclusion:\n",
        "\n",
        "the best deep learning model had an accuracy of 84.09%, and a loss of 34.45%\n",
        "while the best classical model had an accuracy of 91.78%\n",
        "\n",
        "However, the learning curve for the classical model, indicated that there might be overfitting since the training accuracy was always close to 1.\n",
        "the deep learning model on the otherhand, genarlized well to new data. the accuracy started out a bit low, and increased as the number of epochs increased.\n",
        "\n",
        "the Confusion matrix for the deep learning model shows that the model is making error classifing reservations that were not canceled. (predicting not canceled even though they were).\n",
        "\n",
        "\n",
        "---\n",
        "\n",
        "\n",
        "a higher False positive error is better than a higher false negative as the costumers who did not cancel will have higher probapility of having their room ready for them, and a few of the rooms that were predicted to not cancel canceled."
      ],
      "metadata": {
        "id": "PvTPp0cKOXKI"
      }
    }
  ]
}